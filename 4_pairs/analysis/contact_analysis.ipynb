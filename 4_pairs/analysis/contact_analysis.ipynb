{
 "cells": [
  {
   "cell_type": "markdown",
   "metadata": {},
   "source": [
    "# Import Libraries"
   ]
  },
  {
   "cell_type": "code",
   "execution_count": null,
   "metadata": {},
   "outputs": [],
   "source": [
    "import MDAnalysis as mda\n",
    "import numpy as np\n",
    "import matplotlib.pyplot as plt\n",
    "import matplotlib as mpl\n",
    "from MDAnalysis.analysis.distances import distance_array\n",
    "\n",
    "import pandas as pd\n",
    "import seaborn as sns\n",
    "import sys\n",
    "import time\n",
    "import warnings\n",
    "warnings.filterwarnings('ignore')\n",
    "\n",
    "import lifelines # Used for Lifetime analysis #!pip install lifelines\n",
    "\n",
    "#pd.set_option('display.max_rows', None)    # None means unlimited.\n",
    "\n",
    "\n"
   ]
  },
  {
   "cell_type": "markdown",
   "metadata": {},
   "source": [
    "# Fucntions"
   ]
  },
  {
   "cell_type": "code",
   "execution_count": null,
   "metadata": {},
   "outputs": [],
   "source": [
    "\n",
    "class ContactMatrix:\n",
    "    \"\"\"\n",
    "    Class to calculate the contact matrix between two selections of atoms within a molecular universe.\n",
    "    Author: Rubi Zarmiento Garcia\n",
    "    \"\"\"\n",
    "    def __init__(self, universe, selection1, selection2, cutoff,group_by1='resnames',group_by2='resnames'):\n",
    "        \"\"\"\n",
    "        Initializes the ContactMatrix class.\n",
    "        \n",
    "        Parameters:\n",
    "        universe (MDAnalysis.Universe): The molecular universe containing the trajectory.\n",
    "        selection1 (MDAnalysis.AtomGroup): The first selection of atoms.\n",
    "        selection2 (MDAnalysis.AtomGroup): The second selection of atoms.\n",
    "        cutoff (float): The cutoff distance for contacts in angstroms.\n",
    "        \"\"\"\n",
    "        self.universe = universe\n",
    "        self.selection1 = selection1\n",
    "        self.selection2 = selection2\n",
    "        self.cutoff = cutoff\n",
    "        # Get the attributes to group by, if it is a list, then sum the attributes\n",
    "        try:\n",
    "            self.attributes1 = selection1.atoms.__getattribute__(group_by1)\n",
    "        except:\n",
    "            if len(selection1.atoms) == 1:\n",
    "                self.attributes1 = selection1.atoms.__getattribute__(group_by1[0])   \n",
    "            else: \n",
    "                if isinstance(group_by1, list):\n",
    "                    list_attributes1 = []\n",
    "                    list_attributes2 = []\n",
    "                    for attribute in group_by1:\n",
    "                        list_1 = selection1.atoms.__getattribute__(attribute)\n",
    "                        #list_2 = selection2.atoms.__getattribute__(attribute)\n",
    "                        #convert to string\n",
    "                        list_1 = list(map(str, list_1))\n",
    "                        list_attributes1.append(list_1)\n",
    "                        #list_2 = list(map(str, list_2))\n",
    "                        #list_attributes2.append(list_2)\n",
    "                    #Sum the first element of each list, then the second element of each list, etc.\n",
    "                    self.attributes1 = ['%s%s' % x for x in zip(*list_attributes1)]\n",
    "                    #self.attributes2 = ['%s%s' % x for x in zip(*list_attributes2)]\n",
    "        try:\n",
    "            self.attributes2 = selection2.atoms.__getattribute__(group_by2)\n",
    "        except:\n",
    "            if len(selection2.atoms) == 1:\n",
    "                self.attributes2 = selection2.atoms.__getattribute__(group_by2[0])\n",
    "            else:\n",
    "                if isinstance(group_by2, list):\n",
    "                    list_attributes2 = []\n",
    "                    for attribute in group_by2:\n",
    "                        list_2 = selection2.atoms.__getattribute__(attribute)\n",
    "                        #convert to string\n",
    "                        list_2 = list(map(str, list_2))\n",
    "                        list_attributes2.append(list_2)\n",
    "                    #Sum the first element of each list, then the second element of each list, etc.\n",
    "                    self.attributes2 = ['%s%s' % x for x in zip(*list_attributes2)]\n",
    "\n",
    "        self.contacts_matrix = np.zeros((len(self.attributes1), len(self.attributes2)), dtype=int)\n",
    "        self.distances = np.empty((selection1.n_atoms, selection2.n_atoms), dtype=float)\n",
    "        self.indices1 = self.attributes1\n",
    "        self.indices2 = self.attributes2\n",
    "        self.n_frames = len(universe.trajectory)\n",
    "        \n",
    "    def calculate_contacts(self):\n",
    "        \"\"\"\n",
    "        Calculates the contact matrix over the entire trajectory and groups by indices1 and indices2.\n",
    "        \"\"\"\n",
    "        for frame in self.universe.trajectory:\n",
    "            print(f\"{frame.frame}/{len(self.universe.trajectory)}\", end=\"\\r\", file=sys.stderr)\n",
    "            distance_array(self.selection1.atoms.positions, self.selection2.atoms.positions, result=self.distances)\n",
    "            contacts = (self.distances < self.cutoff) & (self.distances > 0)\n",
    "            # Initialize dataframe with unique resnames instead of resnames\n",
    "            df = pd.DataFrame(contacts, index=self.indices1, columns=self.indices2)\n",
    "            # Group by resid and if one element is true, then the whole resid is true\n",
    "            df = df.groupby(df.columns, axis=1).any()\n",
    "            df = df.groupby(df.index, axis=0).any()\n",
    "            \n",
    "            self.contacts_matrix += df.values\n",
    "        #Set column and row names\n",
    "        self.contacts_matrix = pd.DataFrame(self.contacts_matrix, index=np.unique(self.attributes1), columns=np.unique(self.selection2.attributes2))\n",
    "        return self.contacts_matrix\n",
    "    \n",
    "    def calculate_contact_matrix_per_observation(self, n_frames):\n",
    "        \"\"\"\n",
    "        Save a contact matrix for every n_frames and stop if the largest value of saves_at is reached.\n",
    "        \"\"\"\n",
    "        contact_matrix_list = []\n",
    "        saves_at = np.arange(n_frames, self.n_frames + 1, n_frames)\n",
    "        largest_save_point = saves_at[-1]  # Get the largest value from saves_at\n",
    "\n",
    "        # Initialize contact matrix outside the loop\n",
    "        contacts_matrix = np.zeros((len(np.unique(self.attributes1)), len(np.unique(self.attributes2))), dtype=int)\n",
    "        \n",
    "        for frame in self.universe.trajectory:\n",
    "            # Stop if the largest save point is reached\n",
    "            if frame.frame > largest_save_point:\n",
    "                print(f\"Stopping at frame: {frame.frame}\")\n",
    "                break\n",
    "            \n",
    "            # Calculate distances and contacts for the current frame\n",
    "            distance_array(self.selection1.atoms.positions, self.selection2.atoms.positions, result=self.distances)\n",
    "            contacts = (self.distances < self.cutoff) & (self.distances > 0)\n",
    "            df = pd.DataFrame(contacts, index=self.indices1, columns=self.indices2)\n",
    "            df = df.groupby(df.columns, axis=1).any()\n",
    "            df = df.groupby(df.index, axis=0).any()\n",
    "            contacts_matrix += df.values\n",
    "            \n",
    "            # Check if the current frame is a point at which to save the contact matrix\n",
    "            if frame.frame in saves_at:\n",
    "                print(f\"Saving matrix at frame: {frame.frame}\")\n",
    "                contact_matrix_df = pd.DataFrame(contacts_matrix, index=np.unique(self.attributes1), columns=np.unique(self.attributes2))\n",
    "                contact_matrix_list.append(contact_matrix_df)\n",
    "                \n",
    "                # Reset contact matrix for the next period\n",
    "                contacts_matrix = np.zeros((len(np.unique(self.attributes1)), len(np.unique(self.attributes2))), dtype=int)\n",
    "        print(\"Number of contact matrices saved: \", len(contact_matrix_list))\n",
    "        return contact_matrix_list\n",
    "    \n",
    "    def calculate_contact_pairs_matrix_per_observation(self, n_frames):\n",
    "        \"\"\"\n",
    "        Save a contact matrix for every n_frames and stop if the largest value of saves_at is reached.\n",
    "        \"\"\"\n",
    "        contact_matrix_list = []\n",
    "        saves_at = np.arange(n_frames, self.n_frames + 1, n_frames)\n",
    "\n",
    "        largest_save_point = saves_at[-1]  # Get the largest value from saves_at\n",
    "\n",
    "        # Initialize contact matrix outside the loop\n",
    "        contacts_matrix = np.zeros((len(np.unique(self.attributes1)), len(np.unique(self.attributes2))), dtype=int)\n",
    "        \n",
    "        #Initialize attribute1_attribute2 x frames matrix e.g. resname1_resname2 x frames\n",
    "        contact_pairs_matrix = []\n",
    "        # Merge attributes1 and attributes2 with the format 'attribute1_attribute2 and the shape is (n_attributes1 * n_attributes2\n",
    "        names = []\n",
    "        for attr1 in np.unique(self.attributes1):\n",
    "            for attr2 in np.unique(self.attributes2):\n",
    "                names.append(f\"{attr1}_{attr2}\")\n",
    "\n",
    "        print(\"Shape of contact pairs matrix: \", len(names), self.n_frames)\n",
    "        current_frame = 0\n",
    "        for frame in self.universe.trajectory:\n",
    "            # Stop if the largest save point is reached\n",
    "            if frame.frame > largest_save_point:\n",
    "                print(f\"Stopping at frame: {frame.frame}\")\n",
    "                break\n",
    "            \n",
    "            # Calculate distances and contacts for the current frame\n",
    "            distance_array(self.selection1.atoms.positions, self.selection2.atoms.positions, result=self.distances)\n",
    "            contacts = (self.distances < self.cutoff) & (self.distances > 0)\n",
    "            df = pd.DataFrame(contacts, index=self.indices1, columns=self.indices2)\n",
    "            df = df.groupby(df.columns, axis=1).any()\n",
    "            df = df.groupby(df.index, axis=0).any()\n",
    "            \n",
    "            # Flatten the dataframe and convert to int (0/1 instead of False/True)\n",
    "            contact_pairs = df.values.flatten().astype(np.uint8)\n",
    "            # Update the contact pairs matrix for the current frame\n",
    "            contact_pairs_matrix.append(contact_pairs)\n",
    "\n",
    "            # Check if the current frame is a point at which to save the contact matrix\n",
    "            if frame.frame in saves_at:\n",
    "                print(f\"Saving matrix at frame: {frame.frame}\")\n",
    "                # array with frames\n",
    "                frame_indices = np.arange(current_frame, frame.frame+1, 1)\n",
    "                current_frame = frame.frame\n",
    "\n",
    "                # Convert to numpy array first for better performance, then to DataFrame\n",
    "                contact_matrix_array = np.array(contact_pairs_matrix, dtype=np.uint8)\n",
    "                contact_matrix_df = pd.DataFrame(contact_matrix_array, index=frame_indices, columns=names)\n",
    "                contact_matrix_list.append(contact_matrix_df)\n",
    "                # Reset contact matrix for the next period\n",
    "                contact_pairs_matrix = []\n",
    "        print(\"Number of contact matrices saved: \", len(contact_matrix_list))\n",
    "        \n",
    "        return contact_matrix_list\n",
    "    \n",
    "    def print_contact_matrix_list(self, contact_matrix_list):\n",
    "        \"\"\"\n",
    "        Prints the contact matrix list.\n",
    "        \n",
    "        Parameters:\n",
    "        contact_matrix_list (list): The list of contact matrices.\n",
    "        \"\"\"\n",
    "        for i, contact_matrix in enumerate(contact_matrix_list):\n",
    "            print(f\"Contact matrix {i+1}:\")\n",
    "            print(contact_matrix)\n",
    "            print()\n",
    "\n",
    "    def avg_std_matrix_list(self, contact_matrix_list):\n",
    "        \"\"\"\n",
    "        Calculates the average and standard deviation of the contact matrix list.\n",
    "        \n",
    "        Parameters:\n",
    "        contact_matrix_list (list): The list of contact matrices.\n",
    "        \"\"\"\n",
    "        avg_matrix = np.mean(contact_matrix_list, axis=0)\n",
    "        std_matrix = np.std(contact_matrix_list, axis=0)\n",
    "        #Add column and row names\n",
    "        avg_matrix = pd.DataFrame(avg_matrix, index=np.unique(self.attributes1), columns=np.unique(self.attributes2))\n",
    "        std_matrix = pd.DataFrame(std_matrix, index=np.unique(self.attributes1), columns=np.unique(self.attributes2))\n",
    "        return avg_matrix, std_matrix\n",
    "    \n",
    "    def time_matrix_list(self, contact_matrix_list,universe):\n",
    "        \"\"\"\n",
    "        Calculates the average and standard deviation of the contact matrix list.\n",
    "        \n",
    "        Parameters:\n",
    "        contact_matrix_list (list): The list of contact matrices.\n",
    "        universe (MDAnalysis.Universe): The molecular universe containing the trajectory.\n",
    "        \"\"\"\n",
    "        total_time = universe.trajectory.totaltime\n",
    "        total_frames = universe.trajectory.n_frames\n",
    "        time_per_frame = total_time/total_frames\n",
    "        time_matrix_list = []\n",
    "        for matrix in contact_matrix_list:\n",
    "            time_matrix = matrix*time_per_frame\n",
    "            time_matrix_list.append(time_matrix)\n",
    "        return time_matrix_list\n",
    "            \n",
    "    def distance_vs_time(self):\n",
    "        \"\"\"\n",
    "        Calculates distance vs time between two selections.\n",
    "        \"\"\"\n",
    "        #Distance matrix shape: n_frames x n_atoms1 \n",
    "        distance_matrix = np.empty((self.n_frames, len(np.unique(self.attributes1))), dtype=float)\n",
    "        print(\"Shape of distance matrix: \", distance_matrix.shape)\n",
    "        #distance_array(self.selection1.atoms.positions, self.selection2.atoms.positions, result=self.distances)\n",
    "        for frame in self.universe.trajectory:\n",
    "            print(f\"{frame.frame}/{len(self.universe.trajectory)}\", end=\"\\r\", file=sys.stderr)\n",
    "            distance_array(self.selection1.atoms.positions, self.selection2.atoms.positions, result=self.distances)\n",
    "            # Initialize dataframe with unique resnames instead of resnames\n",
    "            df = pd.DataFrame(self.distances, index=self.indices1, columns=self.indices2)\n",
    "            # Group by resid and only conserve the minimum distance of selection2\n",
    "            df = df.groupby(df.index, axis=0).min()\n",
    "            df = df.groupby(df.columns, axis=1).min()\n",
    "            #df = df.groupby(df.columns, axis=1).any()\n",
    "            #df = df.groupby(df.index, axis=0).any()\n",
    "            #Save in distance matrix\n",
    "            distance_matrix[frame.frame,:] = df.values.flatten()\n",
    "        #Convert to dataframe\n",
    "        distance_matrix = pd.DataFrame(distance_matrix, index=np.arange(1,self.n_frames+1), columns=np.unique(self.attributes1))\n",
    "        \n",
    "\n",
    "        return distance_matrix\n",
    "        \n",
    "#Function to plot the contact matrix\n",
    "def plot_contact_matrix(contact_matrix,n_frames,figsize=(5,5),cmap=\"coolwarm\"):\n",
    "    \"\"\"\n",
    "    Plots the contact matrix.\n",
    "\n",
    "    Parameters:\n",
    "    contact_matrix (pd.DataFrame): The contact matrix.\n",
    "    n_frames (int): The number of frames in the trajectory.\n",
    "    figsize (tuple): The figure size.\n",
    "    cmap (str): The colormap.\n",
    "    \"\"\"\n",
    "    plt.figure(figsize=figsize)\n",
    "    #Set the axis to start from lower to higher\n",
    "\n",
    "    sns.heatmap(contact_matrix, cmap=cmap, vmin=0, vmax=n_frames)\n",
    "    plt.axes().invert_yaxis()\n",
    "    plt.show()\n",
    "\n",
    "def plot_one_subplot_per_column_dataframe(df,ylabel=\"ylabel\",xlabel=\"xlabel\",ymax=None,pallette='tab10',hline=None):\n",
    "    \"\"\"\n",
    "    Plots one lineplot per column of a dataframe in a single figure with subplots.\n",
    "\n",
    "    Parameters:\n",
    "    df (pd.DataFrame): The dataframe.\n",
    "    ylabel (str): The ylabel.\n",
    "    xlabel (str): The xlabel.\n",
    "    ymax (float): The maximum value of the y axis.\n",
    "    \"\"\"\n",
    "    n_subplots = df.shape[1]\n",
    "    subplot_per_row = 3\n",
    "    subplot_per_column = int(np.ceil(n_subplots/subplot_per_row))\n",
    "    fig, axes = plt.subplots(subplot_per_column, subplot_per_row, figsize=(15, 5*subplot_per_column))\n",
    "    for i, column in enumerate(df.columns):\n",
    "        sns.lineplot(x=df.index, y=column, data=df, ax=axes[i//subplot_per_row, i%subplot_per_row], palette=pallette)\n",
    "        #Set labels\n",
    "        axes[i//subplot_per_row, i%subplot_per_row].set_title(column)\n",
    "        axes[i//subplot_per_row, i%subplot_per_row].set_ylabel(ylabel)\n",
    "        axes[i//subplot_per_row, i%subplot_per_row].set_xlabel(xlabel)\n",
    "        #set y limit\n",
    "        if ymax is not None:\n",
    "            axes[i//subplot_per_row, i%subplot_per_row].set_ylim(0,ymax)\n",
    "        if hline is not None:\n",
    "            axes[i//subplot_per_row, i%subplot_per_row].axhline(y=hline, color=\"black\", linestyle='--')\n",
    "\n",
    "    plt.tight_layout()\n",
    "    #Turn off any unused subplots\n",
    "    for i in range(n_subplots,subplot_per_row*subplot_per_column):\n",
    "        axes[i//subplot_per_row, i%subplot_per_row].axis('off')\n",
    "\n",
    "    \n",
    "    plt.show()\n",
    "\n",
    "\n",
    "def extract_lifetimes(df):\n",
    "    \"\"\"\n",
    "    Extract lifetimes from a DataFrame where each column contains binary time series data.\n",
    "    \n",
    "    Parameters:\n",
    "    df (pd.DataFrame): DataFrame with shape (labels x time) containing binary data (0s and 1s)\n",
    "    \n",
    "    Returns:\n",
    "    list: List of arrays, where each array contains the lifetimes (consecutive 1s) for each column\n",
    "    \n",
    "    Example:\n",
    "    If a column has data [0, 0, 0, 1, 1, 1, 0, 0, 0, 1, 1], \n",
    "    it returns [3, 2] representing two lifetimes of length 3 and 2.\n",
    "    \"\"\"\n",
    "    lifetimes_per_column = []\n",
    "    \n",
    "    for column in df.columns:\n",
    "        column_data = df[column].values\n",
    "        lifetimes = []\n",
    "        current_lifetime = 0\n",
    "        \n",
    "        for value in column_data:\n",
    "            if value == 1:\n",
    "                current_lifetime += 1\n",
    "            else:\n",
    "                if current_lifetime > 0:\n",
    "                    lifetimes.append(current_lifetime)\n",
    "                    current_lifetime = 0\n",
    "        \n",
    "        # Don't forget the last lifetime if the sequence ends with 1s\n",
    "        if current_lifetime > 0:\n",
    "            lifetimes.append(current_lifetime)\n",
    "        \n",
    "        lifetimes_per_column.append(np.array(lifetimes))\n",
    "    \n",
    "    return lifetimes_per_column\n",
    "\n",
    "# Alternative more compact version using groupby\n",
    "def extract_lifetimes_vectorized(df):\n",
    "    \"\"\"\n",
    "    Vectorized version using pandas groupby for better performance.\n",
    "    \"\"\"\n",
    "    lifetimes_per_column = []\n",
    "    \n",
    "    for column in df.columns:\n",
    "        series = df[column]\n",
    "        # Create groups where consecutive identical values are grouped together\n",
    "        groups = (series != series.shift()).cumsum()\n",
    "        \n",
    "        # Filter for groups where the value is 1 and get their sizes\n",
    "        lifetimes = series.groupby(groups).size()[series.groupby(groups).first() == 1].values\n",
    "        lifetimes_per_column.append(lifetimes)\n",
    "    \n",
    "    return lifetimes_per_column\n",
    "\n",
    "def assign_bfactor_to_universe(universe, resids, bfactor):\n",
    "    \"\"\"\n",
    "    Assigns B-factors to the atoms in a universe based on the provided residue IDs and B-factor values.\n",
    "\n",
    "    Parameters:\n",
    "    universe (MDAnalysis.Universe): The molecular universe containing the trajectory.\n",
    "    resids (np.ndarray): Array of residue IDs.\n",
    "    bfactor (np.ndarray): Array of B-factor values corresponding to the residues.\n",
    "\n",
    "    Returns:\n",
    "    MDAnalysis.Universe: The updated universe with assigned B-factors.\n",
    "    \"\"\"\n",
    "    for resid, bf in zip(resids, bfactor):\n",
    "        # Select atoms by residue ID\n",
    "        atoms = universe.select_atoms(f'resid {resid}')\n",
    "        # Assign B-factor\n",
    "        atoms.bfactors = bf\n",
    "    return universe\n",
    "\n",
    "def save_universe_to_pdb(universe, filename):\n",
    "    \"\"\"\n",
    "    Saves the universe to a PDB file.\n",
    "\n",
    "    Parameters:\n",
    "    universe (MDAnalysis.Universe): The molecular universe containing the trajectory.\n",
    "    filename (str): The name of the output PDB file.\n",
    "    \"\"\"\n",
    "    with mda.Writer(filename) as W:\n",
    "        W.write(universe)\n",
    "    print(f\"Universe saved to {filename}\")\n",
    "\n",
    "def compute_lifetimes_from_contacts(\n",
    "    contacts_df: pd.DataFrame,\n",
    "    dt: float,\n",
    "    min_event_ns: float = 0.0,\n",
    "    pair_parser: Callable[[str], tuple] = None\n",
    ") -> Tuple[pd.DataFrame, pd.DataFrame, Dict[str, float]]:\n",
    "    \"\"\"\n",
    "    Compute lifetimes from a wide 'frames × resid_pairs' contact matrix.\n",
    "\n",
    "    Parameters\n",
    "    ----------\n",
    "    contacts_df : pd.DataFrame\n",
    "        Index: frames (int). Columns: residue-pair labels. Values: bool (or 0/1).\n",
    "        Example columns: \"101-315\", \"A101-B315\", or \"101_315\". See pair_parser to customize.\n",
    "    dt : float\n",
    "        Time between saved frames in nanoseconds.\n",
    "    min_event_ns : float, default 0.0\n",
    "        Minimum lifetime (ns) to keep an event; set e.g. 5.0 to drop micro-events.\n",
    "    pair_parser : callable, optional\n",
    "        Function that maps a column name -> (resid_i:int, resid_j:int).\n",
    "        If None, a default parser tries to extract two integers from the label.\n",
    "\n",
    "    Returns\n",
    "    -------\n",
    "    events_df : DataFrame\n",
    "        Per-pair events with ['resid_i','resid_j','start_frame','end_frame','frames','lifetime_ns'].\n",
    "    residue_summary_df : DataFrame\n",
    "        Per-residue stats: ['resid','n_events','occupancy_pct','median_ns','p90_ns'].\n",
    "    protein_summary : dict\n",
    "        {'total_bound_ns': float, 'bound_fraction_pct': float}\n",
    "    \"\"\"\n",
    "    # Ensure index are integer frames and values are boolean\n",
    "    df = contacts_df.copy()\n",
    "    # Convert any numeric to boolean; treat >0 as True\n",
    "    if not np.issubdtype(df.dtypes.values[0], np.bool_):\n",
    "        df = df.astype(bool)\n",
    "\n",
    "    frame_min, frame_max = int(df.index.min()), int(df.index.max())\n",
    "    n_frames = frame_max - frame_min + 1\n",
    "    if n_frames <= 0:\n",
    "        return (\n",
    "            pd.DataFrame(columns=['resid_i','resid_j','start_frame','end_frame','frames','lifetime_ns']),\n",
    "            pd.DataFrame(columns=['resid','n_events','occupancy_pct','median_ns','p90_ns']),\n",
    "            dict(total_bound_ns=0.0, bound_fraction_pct=0.0)\n",
    "        )\n",
    "\n",
    "    # Default parser: extract first two integers from column label\n",
    "    def _default_parse(col: str) -> tuple:\n",
    "        nums = re.findall(r'-?\\d+', str(col))\n",
    "        if len(nums) < 2:\n",
    "            raise ValueError(f\"Cannot parse residue pair from column name: {col}\")\n",
    "        return int(nums[0]), int(nums[1])\n",
    "\n",
    "    parse = pair_parser or _default_parse\n",
    "\n",
    "    # Helper: ON-segment extraction\n",
    "    def _segments(on_bool: np.ndarray) -> np.ndarray:\n",
    "        \"\"\"Return array of (start_idx, end_idx) inclusive (indices relative to df.index order).\"\"\"\n",
    "        x = on_bool.astype(int)\n",
    "        diff = np.diff(x, prepend=0, append=0)\n",
    "        starts = np.where(diff == 1)[0]\n",
    "        ends   = np.where(diff == -1)[0] - 1\n",
    "        return np.stack([starts, ends], axis=1) if starts.size else np.empty((0,2), dtype=int)\n",
    "\n",
    "    # Protein-level ON timeline (any pair ON)\n",
    "    protein_on = df.any(axis=1).to_numpy()\n",
    "    total_on_frames = int(protein_on.sum())\n",
    "    total_bound_ns = total_on_frames * dt \n",
    "    bound_fraction_pct = 100.0 * (total_on_frames / n_frames)\n",
    "    protein_summary = dict(total_bound_ns=float(total_bound_ns),\n",
    "                           bound_fraction_pct=float(bound_fraction_pct))\n",
    "\n",
    "    # Per-pair events\n",
    "    events_rows = []\n",
    "    resid_on: Dict[int, np.ndarray] = {}\n",
    "\n",
    "    for col in df.columns:\n",
    "        ri, rj = parse(col)\n",
    "        on_series = df[col].to_numpy()\n",
    "\n",
    "        segs = _segments(on_series)\n",
    "        if segs.size:\n",
    "            # Convert segments to lifetimes\n",
    "            lengths = segs[:,1] - segs[:,0] + 1\n",
    "            lifetimes_ns = lengths * dt \n",
    "            # Optional: drop short events\n",
    "            if min_event_ns > 0.0:\n",
    "                keep = lifetimes_ns >= float(min_event_ns)\n",
    "                segs = segs[keep]\n",
    "                lifetimes_ns = lifetimes_ns[keep]\n",
    "\n",
    "            for (s_idx, e_idx), L_ns in zip(segs, lifetimes_ns):\n",
    "                start_frame = int(df.index[s_idx])\n",
    "                end_frame   = int(df.index[e_idx])\n",
    "                events_rows.append(dict(\n",
    "                    resid_i=ri, resid_j=rj,\n",
    "                    start_frame=start_frame,\n",
    "                    end_frame=end_frame,\n",
    "                    frames=int(e_idx - s_idx + 1),\n",
    "                    lifetime_ns=float(L_ns)\n",
    "                ))\n",
    "\n",
    "        # Accumulate per-residue ON (any partner)\n",
    "        # Initialize if needed\n",
    "        if ri not in resid_on:\n",
    "            resid_on[ri] = np.zeros(n_frames, dtype=bool)\n",
    "        if rj not in resid_on:\n",
    "            resid_on[rj] = np.zeros(n_frames, dtype=bool)\n",
    "        resid_on[ri] |= on_series\n",
    "        resid_on[rj] |= on_series\n",
    "\n",
    "    events_df = (pd.DataFrame(events_rows) if events_rows\n",
    "                 else pd.DataFrame(columns=['resid_i','resid_j','start_frame','end_frame','frames','lifetime_ns']))\n",
    "\n",
    "    # Per-residue stats\n",
    "    res_rows = []\n",
    "    for resid, on_vec in resid_on.items():\n",
    "        occ_pct = 100.0 * (on_vec.sum() / n_frames)\n",
    "        segs = _segments(on_vec)\n",
    "        if segs.size:\n",
    "            lengths = segs[:,1] - segs[:,0] + 1\n",
    "            lifetimes_ns = lengths * dt\n",
    "            if min_event_ns > 0.0:\n",
    "                lifetimes_ns = lifetimes_ns[lifetimes_ns >= float(min_event_ns)]\n",
    "        else:\n",
    "            lifetimes_ns = np.array([], dtype=float)\n",
    "\n",
    "        if lifetimes_ns.size == 0:\n",
    "            med = p90 = 0.0\n",
    "            n_ev = 0\n",
    "        else:\n",
    "            med = float(np.median(lifetimes_ns))\n",
    "            p90 = float(np.percentile(lifetimes_ns, 90))\n",
    "            n_ev = int(lifetimes_ns.size)\n",
    "\n",
    "        res_rows.append(dict(\n",
    "            resid=int(resid),\n",
    "            n_events=n_ev,\n",
    "            occupancy_pct=float(occ_pct),\n",
    "            median_ns=med,\n",
    "            p90_ns=p90\n",
    "        ))\n",
    "\n",
    "    residue_summary_df = pd.DataFrame(res_rows).sort_values('resid').reset_index(drop=True)\n",
    "    \n",
    "    return events_df, residue_summary_df, protein_summary"
   ]
  },
  {
   "cell_type": "markdown",
   "metadata": {},
   "source": [
    "# Test comparing with contact map "
   ]
  },
  {
   "cell_type": "code",
   "execution_count": 8,
   "metadata": {},
   "outputs": [
    {
     "name": "stdout",
     "output_type": "stream",
     "text": [
      "166\n",
      "166\n"
     ]
    }
   ],
   "source": [
    "#TEST1\n",
    "#u = mda.Universe(\"/martini/rubiz/test_files/psbs.tpr\",\"/martini/rubiz/test_files/psbs.xtc\")\n",
    "#sel1 = u.select_atoms('index 1-456')\n",
    "#sel2 = u.select_atoms('name NA')\n",
    "#TEST2\n",
    "#https://figshare.com/s/453b1b215cf2f9270769 \n",
    "u = mda.Universe(\"/martini/rubiz/thylakoid/Lipid_Fingerprint_Analysis/contact_map/kras.pdb\",\"/martini/rubiz/thylakoid/Lipid_Fingerprint_Analysis/contact_map/kras.xtc\")\n",
    "#Change resname UNL to O2\n",
    "#u.atoms.residues.resnames = np.where(u.atoms.residues.resnames == 'UNL', 'O2', u.atoms.residues.resnames)\n",
    "sel1 = u.select_atoms('protein')\n",
    "sel2 = u.select_atoms('protein')\n",
    "print(sel1.n_residues)\n",
    "print(sel2.n_residues)\n"
   ]
  },
  {
   "cell_type": "code",
   "execution_count": 9,
   "metadata": {},
   "outputs": [
    {
     "name": "stdout",
     "output_type": "stream",
     "text": [
      "Number of frames:  101\n"
     ]
    }
   ],
   "source": [
    "print(\"Number of frames: \", len(u.trajectory))"
   ]
  },
  {
   "cell_type": "code",
   "execution_count": 10,
   "metadata": {},
   "outputs": [
    {
     "name": "stdout",
     "output_type": "stream",
     "text": [
      "Saving matrix at frame: 100\n",
      "Number of contact matrices saved:  1\n"
     ]
    }
   ],
   "source": [
    "contact_matrix_obj = ContactMatrix(u, sel1, sel2, 4.5, group_by1=\"resids\", group_by2=\"resids\")\n",
    "contact_matrix_list = contact_matrix_obj.calculate_contact_matrix_per_observation(100)\n"
   ]
  },
  {
   "cell_type": "code",
   "execution_count": 20,
   "metadata": {},
   "outputs": [],
   "source": [
    "contact_matrix = contact_matrix_list[0]\n",
    "#display(contact_matrix)"
   ]
  },
  {
   "cell_type": "code",
   "execution_count": 12,
   "metadata": {},
   "outputs": [
    {
     "data": {
      "image/png": "[encoded data removed]",
      "text/plain": [
       "<Figure size 500x500 with 2 Axes>"
      ]
     },
     "metadata": {},
     "output_type": "display_data"
    }
   ],
   "source": [
    "#Plot the contact matrix\n",
    "fig = plt.figure(figsize=(5,5))\n",
    "sns.heatmap(contact_matrix,cmap=\"Reds\",vmin=0,vmax=100)\n",
    "#Invert the y axis\n",
    "plt.gca().invert_yaxis()\n",
    "#Set thicks to 10\n",
    "plt.show()\n",
    "\n"
   ]
  },
  {
   "attachments": {
    "image.png": {
     "image/png": "[encoded data removed]"
    }
   },
   "cell_type": "markdown",
   "metadata": {},
   "source": [
    "![image.png](attachment:image.png)"
   ]
  },
  {
   "cell_type": "markdown",
   "metadata": {},
   "source": [
    "# Test LifeTime Analysis"
   ]
  },
  {
   "cell_type": "code",
   "execution_count": 13,
   "metadata": {},
   "outputs": [
    {
     "name": "stdout",
     "output_type": "stream",
     "text": [
      "166\n",
      "166\n",
      "Shape of contact pairs matrix:  27556 101\n",
      "Saving matrix at frame: 100\n",
      "Number of contact matrices saved:  1\n"
     ]
    }
   ],
   "source": [
    "u = mda.Universe(\"/martini/rubiz/thylakoid/Lipid_Fingerprint_Analysis/contact_map/kras.pdb\",\"/martini/rubiz/thylakoid/Lipid_Fingerprint_Analysis/contact_map/kras.xtc\")\n",
    "#Change resname UNL to O2\n",
    "#u.atoms.residues.resnames = np.where(u.atoms.residues.resnames == 'UNL', 'O2', u.atoms.residues.resnames)\n",
    "sel1 = u.select_atoms('protein')\n",
    "sel2 = u.select_atoms('protein')\n",
    "print(sel1.n_residues)\n",
    "print(sel2.n_residues)\n",
    "\n",
    "# Test pairwise contacts\n",
    "n_frames = u.trajectory.n_frames\n",
    "contact_matrix_obj = ContactMatrix(u, sel1, sel2, 4.5, group_by1=\"resids\", group_by2=\"resids\")\n",
    "\n",
    "contact_pairs_matrix_list = contact_matrix_obj.calculate_contact_pairs_matrix_per_observation(n_frames-1)\n",
    "contact_pairs_matrix = contact_pairs_matrix_list[0]\n",
    "#display(contact_pairs_matrix)"
   ]
  },
  {
   "cell_type": "code",
   "execution_count": 14,
   "metadata": {},
   "outputs": [
    {
     "data": {
      "text/html": [
       "<div>\n",
       "<style scoped>\n",
       "    .dataframe tbody tr th:only-of-type {\n",
       "        vertical-align: middle;\n",
       "    }\n",
       "\n",
       "    .dataframe tbody tr th {\n",
       "        vertical-align: top;\n",
       "    }\n",
       "\n",
       "    .dataframe thead th {\n",
       "        text-align: right;\n",
       "    }\n",
       "</style>\n",
       "<table border=\"1\" class=\"dataframe\">\n",
       "  <thead>\n",
       "    <tr style=\"text-align: right;\">\n",
       "      <th></th>\n",
       "      <th>1_1</th>\n",
       "      <th>1_2</th>\n",
       "      <th>1_3</th>\n",
       "      <th>1_4</th>\n",
       "      <th>1_5</th>\n",
       "      <th>1_6</th>\n",
       "      <th>1_7</th>\n",
       "      <th>1_8</th>\n",
       "      <th>1_9</th>\n",
       "      <th>1_10</th>\n",
       "      <th>...</th>\n",
       "      <th>166_157</th>\n",
       "      <th>166_158</th>\n",
       "      <th>166_159</th>\n",
       "      <th>166_160</th>\n",
       "      <th>166_161</th>\n",
       "      <th>166_162</th>\n",
       "      <th>166_163</th>\n",
       "      <th>166_164</th>\n",
       "      <th>166_165</th>\n",
       "      <th>166_166</th>\n",
       "    </tr>\n",
       "  </thead>\n",
       "  <tbody>\n",
       "    <tr>\n",
       "      <th>0</th>\n",
       "      <td>True</td>\n",
       "      <td>True</td>\n",
       "      <td>True</td>\n",
       "      <td>False</td>\n",
       "      <td>False</td>\n",
       "      <td>False</td>\n",
       "      <td>False</td>\n",
       "      <td>False</td>\n",
       "      <td>False</td>\n",
       "      <td>False</td>\n",
       "      <td>...</td>\n",
       "      <td>False</td>\n",
       "      <td>False</td>\n",
       "      <td>False</td>\n",
       "      <td>False</td>\n",
       "      <td>False</td>\n",
       "      <td>True</td>\n",
       "      <td>True</td>\n",
       "      <td>True</td>\n",
       "      <td>True</td>\n",
       "      <td>True</td>\n",
       "    </tr>\n",
       "    <tr>\n",
       "      <th>1</th>\n",
       "      <td>True</td>\n",
       "      <td>True</td>\n",
       "      <td>True</td>\n",
       "      <td>False</td>\n",
       "      <td>False</td>\n",
       "      <td>False</td>\n",
       "      <td>False</td>\n",
       "      <td>False</td>\n",
       "      <td>False</td>\n",
       "      <td>False</td>\n",
       "      <td>...</td>\n",
       "      <td>False</td>\n",
       "      <td>False</td>\n",
       "      <td>False</td>\n",
       "      <td>False</td>\n",
       "      <td>False</td>\n",
       "      <td>True</td>\n",
       "      <td>True</td>\n",
       "      <td>True</td>\n",
       "      <td>True</td>\n",
       "      <td>True</td>\n",
       "    </tr>\n",
       "    <tr>\n",
       "      <th>2</th>\n",
       "      <td>True</td>\n",
       "      <td>True</td>\n",
       "      <td>True</td>\n",
       "      <td>False</td>\n",
       "      <td>False</td>\n",
       "      <td>False</td>\n",
       "      <td>False</td>\n",
       "      <td>False</td>\n",
       "      <td>False</td>\n",
       "      <td>False</td>\n",
       "      <td>...</td>\n",
       "      <td>False</td>\n",
       "      <td>False</td>\n",
       "      <td>False</td>\n",
       "      <td>False</td>\n",
       "      <td>False</td>\n",
       "      <td>True</td>\n",
       "      <td>True</td>\n",
       "      <td>True</td>\n",
       "      <td>True</td>\n",
       "      <td>True</td>\n",
       "    </tr>\n",
       "    <tr>\n",
       "      <th>3</th>\n",
       "      <td>True</td>\n",
       "      <td>True</td>\n",
       "      <td>True</td>\n",
       "      <td>False</td>\n",
       "      <td>False</td>\n",
       "      <td>False</td>\n",
       "      <td>False</td>\n",
       "      <td>False</td>\n",
       "      <td>False</td>\n",
       "      <td>False</td>\n",
       "      <td>...</td>\n",
       "      <td>False</td>\n",
       "      <td>False</td>\n",
       "      <td>False</td>\n",
       "      <td>False</td>\n",
       "      <td>False</td>\n",
       "      <td>True</td>\n",
       "      <td>True</td>\n",
       "      <td>True</td>\n",
       "      <td>True</td>\n",
       "      <td>True</td>\n",
       "    </tr>\n",
       "    <tr>\n",
       "      <th>4</th>\n",
       "      <td>True</td>\n",
       "      <td>True</td>\n",
       "      <td>False</td>\n",
       "      <td>False</td>\n",
       "      <td>False</td>\n",
       "      <td>False</td>\n",
       "      <td>False</td>\n",
       "      <td>False</td>\n",
       "      <td>False</td>\n",
       "      <td>False</td>\n",
       "      <td>...</td>\n",
       "      <td>False</td>\n",
       "      <td>False</td>\n",
       "      <td>False</td>\n",
       "      <td>False</td>\n",
       "      <td>True</td>\n",
       "      <td>True</td>\n",
       "      <td>True</td>\n",
       "      <td>True</td>\n",
       "      <td>True</td>\n",
       "      <td>True</td>\n",
       "    </tr>\n",
       "  </tbody>\n",
       "</table>\n",
       "<p>5 rows × 27556 columns</p>\n",
       "</div>"
      ],
      "text/plain": [
       "    1_1   1_2    1_3    1_4    1_5    1_6    1_7    1_8    1_9   1_10  ...  \\\n",
       "0  True  True   True  False  False  False  False  False  False  False  ...   \n",
       "1  True  True   True  False  False  False  False  False  False  False  ...   \n",
       "2  True  True   True  False  False  False  False  False  False  False  ...   \n",
       "3  True  True   True  False  False  False  False  False  False  False  ...   \n",
       "4  True  True  False  False  False  False  False  False  False  False  ...   \n",
       "\n",
       "   166_157  166_158  166_159  166_160  166_161  166_162  166_163  166_164  \\\n",
       "0    False    False    False    False    False     True     True     True   \n",
       "1    False    False    False    False    False     True     True     True   \n",
       "2    False    False    False    False    False     True     True     True   \n",
       "3    False    False    False    False    False     True     True     True   \n",
       "4    False    False    False    False     True     True     True     True   \n",
       "\n",
       "   166_165  166_166  \n",
       "0     True     True  \n",
       "1     True     True  \n",
       "2     True     True  \n",
       "3     True     True  \n",
       "4     True     True  \n",
       "\n",
       "[5 rows x 27556 columns]"
      ]
     },
     "metadata": {},
     "output_type": "display_data"
    }
   ],
   "source": [
    "display(contact_pairs_matrix.head())    "
   ]
  },
  {
   "cell_type": "code",
   "execution_count": 15,
   "metadata": {},
   "outputs": [],
   "source": [
    "lifetimes = extract_lifetimes(contact_pairs_matrix)\n"
   ]
  },
  {
   "cell_type": "code",
   "execution_count": 16,
   "metadata": {},
   "outputs": [],
   "source": [
    "labels = contact_pairs_matrix.columns\n",
    "# Plot lifetimes for each column\n",
    "\n",
    "# Function to safely calculate statistics for potentially empty arrays\n",
    "def safe_stat(lifetime_array, stat_func, default_value=np.nan):\n",
    "    \"\"\"Calculate statistics safely, returning default_value for empty arrays\"\"\"\n",
    "    if len(lifetime_array) == 0:\n",
    "        return default_value\n",
    "    return stat_func(lifetime_array)\n",
    "\n",
    "# New dataframe with labels as index and columns: mean, std, min, max, median, n_counts\n",
    "lifetimes_df = pd.DataFrame({\n",
    "    'mean': [safe_stat(lifetime, np.mean) for lifetime in lifetimes],\n",
    "    'std': [safe_stat(lifetime, np.std) for lifetime in lifetimes],\n",
    "    'min': [safe_stat(lifetime, np.min) for lifetime in lifetimes],\n",
    "    'max': [safe_stat(lifetime, np.max) for lifetime in lifetimes],\n",
    "    'median': [safe_stat(lifetime, np.median) for lifetime in lifetimes],\n",
    "    'n_counts': [len(lifetime) for lifetime in lifetimes]\n",
    "}, index=labels)\n"
   ]
  },
  {
   "cell_type": "code",
   "execution_count": 17,
   "metadata": {},
   "outputs": [],
   "source": [
    "#Sort by mean\n",
    "lifetimes_df = lifetimes_df.sort_values(by='mean', ascending=False)"
   ]
  },
  {
   "cell_type": "code",
   "execution_count": null,
   "metadata": {},
   "outputs": [],
   "source": [
    "#display(lifetimes_df)"
   ]
  },
  {
   "cell_type": "markdown",
   "metadata": {},
   "source": [
    "# Test Particle distribution over time"
   ]
  },
  {
   "cell_type": "code",
   "execution_count": null,
   "metadata": {},
   "outputs": [],
   "source": [
    "def time_to_frame(trajectory, time_ns):\n",
    "    \"\"\"Convert time in nanoseconds to frame number\"\"\"\n",
    "    time_ps = time_ns * 1000  # Convert ns to ps\n",
    "    dt = trajectory.dt  # Time step in ps\n",
    "    \n",
    "    # Go to first frame to get start time\n",
    "    trajectory[0]\n",
    "    start_time = trajectory.time\n",
    "    \n",
    "    # Calculate frame number\n",
    "    frame_number = int((time_ps - start_time) / dt)\n",
    "    return max(0, min(frame_number, trajectory.n_frames - 1))"
   ]
  },
  {
   "cell_type": "code",
   "execution_count": 46,
   "metadata": {},
   "outputs": [
    {
     "name": "stdout",
     "output_type": "stream",
     "text": [
      "166\n",
      "21\n",
      "Time: 0 ns corresponds to frame: 0\n",
      "Time: 25 ns corresponds to frame: 25\n",
      "Time: 50 ns corresponds to frame: 50\n",
      "Time: 75 ns corresponds to frame: 75\n",
      "Time: 100 ns corresponds to frame: 100\n"
     ]
    }
   ],
   "source": [
    "#https://figshare.com/s/453b1b215cf2f9270769 \n",
    "u = mda.Universe(\"/martini/rubiz/thylakoid/Lipid_Fingerprint_Analysis/contact_map/kras.pdb\",\"/martini/rubiz/thylakoid/Lipid_Fingerprint_Analysis/contact_map/kras.xtc\")\n",
    "sel1 = u.select_atoms('protein')\n",
    "sel2 = u.select_atoms('resname CL')\n",
    "print(sel1.n_residues)\n",
    "print(sel2.n_residues)\n",
    "selections = [sel1, sel2]\n",
    "start_time = u.trajectory.time\n",
    "time_steps = [0, 25, 50, 75, 100]\n",
    "\n",
    "frames = []\n",
    "for time_step in time_steps:\n",
    "    frame = time_to_frame(u.trajectory, time_step)\n",
    "    frames.append(frame)"
   ]
  },
  {
   "cell_type": "code",
   "execution_count": 47,
   "metadata": {},
   "outputs": [],
   "source": [
    "positions = []\n",
    "for sel in selections:\n",
    "    pos = []\n",
    "    for frame in frames:\n",
    "        u.trajectory[frame]\n",
    "        pos.append(sel.atoms.positions)\n",
    "    positions.append(pos)"
   ]
  },
  {
   "cell_type": "code",
   "execution_count": 54,
   "metadata": {},
   "outputs": [],
   "source": [
    "# Get min_x, max_x, min_y, max_y from the positions\n",
    "# Flatten the nested list structure: positions[selection][frame]\n",
    "all_positions = [pos for selection_positions in positions for pos in selection_positions]\n",
    "min_x = min(np.min(pos[:, 0]) for pos in all_positions)\n",
    "max_x = max(np.max(pos[:, 0]) for pos in all_positions)\n",
    "min_y = min(np.min(pos[:, 1]) for pos in all_positions)\n",
    "max_y = max(np.max(pos[:, 1]) for pos in all_positions)"
   ]
  },
  {
   "cell_type": "code",
   "execution_count": 72,
   "metadata": {},
   "outputs": [
    {
     "data": {
      "image/png": "[encoded data removed]",
      "text/plain": [
       "<Figure size 2500x500 with 5 Axes>"
      ]
     },
     "metadata": {},
     "output_type": "display_data"
    }
   ],
   "source": [
    "# Scattered plot with len(frames) subplots showing both selections\n",
    "pallette = sns.color_palette(\"Set3\", n_colors=len(selections))\n",
    "fig, axes = plt.subplots(1, len(frames), figsize=(5*len(frames), 5))\n",
    "\n",
    "# Ensure axes is always a list for consistent indexing\n",
    "if len(frames) == 1:\n",
    "    axes = [axes]\n",
    "\n",
    "colors_selections = [\"lightgrey\", pallette[0]]\n",
    "\n",
    "for j, (frame, time_step) in enumerate(zip(frames, time_steps)):\n",
    "    for i, sel in enumerate(selections):\n",
    "        p = positions[i][j]\n",
    "        axes[j].scatter(p[:, 0], p[:, 1], color='grey', s=100, alpha=1)\n",
    "        axes[j].scatter(p[:, 0], p[:, 1], color=colors_selections[i], s=60, label=f'{sel.resnames[0]}', alpha=1)\n",
    "    \n",
    "    axes[j].set_title(f'{time_step} ns')\n",
    "    axes[j].set_xlabel('X Position (nm)')\n",
    "    axes[j].set_ylabel('Y Position (nm)')\n",
    "    axes[j].set_xlim(min_x, max_x)\n",
    "    axes[j].set_ylim(min_y, max_y)\n",
    "    x_ticks = axes[j].get_xticks()\n",
    "    x_ticks_nm = [f\"{x_tick / 10:.0f}\" for x_tick in x_ticks]\n",
    "    axes[j].set_xticklabels(x_ticks_nm)\n",
    "    y_ticks = axes[j].get_yticks()\n",
    "    y_ticks_nm = [f\"{y_tick / 10:.0f}\" for y_tick in y_ticks]\n",
    "    axes[j].set_yticklabels(y_ticks_nm)\n",
    "\n",
    "    axes[j].legend()\n",
    "\n",
    "plt.tight_layout()\n",
    "plt.show()\n"
   ]
  },
  {
   "cell_type": "markdown",
   "metadata": {},
   "source": [
    "# Gobal variables"
   ]
  },
  {
   "cell_type": "code",
   "execution_count": null,
   "metadata": {},
   "outputs": [],
   "source": []
  },
  {
   "cell_type": "markdown",
   "metadata": {},
   "source": [
    "# 🔵 Contact Analysis "
   ]
  },
  {
   "cell_type": "markdown",
   "metadata": {},
   "source": [
    "## Chain 4 proteins"
   ]
  },
  {
   "cell_type": "code",
   "execution_count": 22,
   "metadata": {},
   "outputs": [
    {
     "name": "stdout",
     "output_type": "stream",
     "text": [
      "424\n",
      "210\n",
      "Number of frames:  35053\n"
     ]
    }
   ],
   "source": [
    "gro = \"/martini/rubiz/Github/PsbS_Binding_Site/4_pairs/analysis/chain_4/initial_fit.pdb\"\n",
    "xtc = \"/martini/rubiz/Github/PsbS_Binding_Site/4_pairs/analysis/chain_4/aligned.xtc\"\n",
    "u = mda.Universe(gro, xtc)\n",
    "\n",
    "sel1 = u.select_atoms('chainID A B')\n",
    "sel2 = u.select_atoms('chainID 4 and not resname CLA CLB CHL *HG* PLQ PL9 *GG* *SQ* *PG* LUT VIO XAT NEO NEX W2 HOH BCR')\n",
    "print(sel1.n_residues)\n",
    "print(sel2.n_residues)\n",
    "#Print the number of frames\n",
    "n_frames = len(u.trajectory)\n",
    "print(\"Number of frames: \", n_frames)"
   ]
  },
  {
   "cell_type": "code",
   "execution_count": 23,
   "metadata": {},
   "outputs": [
    {
     "name": "stdout",
     "output_type": "stream",
     "text": [
      "Saving matrix at frame: 35052\n",
      "Number of contact matrices saved:  1\n"
     ]
    }
   ],
   "source": [
    "contact_matrix_obj = ContactMatrix(u, sel1, sel2, 8, group_by1=\"resids\", group_by2=\"resids\")\n",
    "contact_matrix_list = contact_matrix_obj.calculate_contact_matrix_per_observation(n_frames=n_frames-1)\n",
    "time_matrix_list = contact_matrix_obj.time_matrix_list(contact_matrix_list,u)\n"
   ]
  },
  {
   "cell_type": "code",
   "execution_count": null,
   "metadata": {},
   "outputs": [],
   "source": [
    "avg_matrix, std_matrix = contact_matrix_obj.avg_std_matrix_list(contact_matrix_list)\n",
    "contact_matrix_obj.print_contact_matrix_list(contact_matrix_list)\n",
    "#Save avg_matrix and std_matrix to csv\n",
    "avg_matrix.to_csv('/martini/rubiz/Github/PsbS_Binding_Site/4_pairs/analysis/chain_4/contact_matrix_protein_5000ns.csv')\n"
   ]
  },
  {
   "cell_type": "code",
   "execution_count": null,
   "metadata": {},
   "outputs": [],
   "source": [
    "#Load the contact matrix\n",
    "contact_matrix1 = pd.read_csv('/martini/rubiz/Github/PsbS_Binding_Site/4_pairs/analysis/chain_4/contact_matrix_protein_5000ns.csv', index_col=0)"
   ]
  },
  {
   "cell_type": "code",
   "execution_count": null,
   "metadata": {},
   "outputs": [
    {
     "data": {
      "image/png": "[encoded data removed]",
      "text/plain": [
       "<Figure size 500x500 with 2 Axes>"
      ]
     },
     "metadata": {},
     "output_type": "display_data"
    }
   ],
   "source": [
    "#Plot matrix\n",
    "fig = plt.figure(figsize=(5,5))\n",
    "sns.heatmap(contact_matrix1, cmap=\"Reds\", vmin=0, vmax=500)\n",
    "#Invert the y axis\n",
    "plt.gca().invert_yaxis()\n",
    "plt.show()\n"
   ]
  },
  {
   "cell_type": "code",
   "execution_count": null,
   "metadata": {},
   "outputs": [],
   "source": [
    "#Get the stats for PsbS\n",
    "stats1 = contact_matrix1.T.describe()"
   ]
  },
  {
   "cell_type": "code",
   "execution_count": null,
   "metadata": {},
   "outputs": [],
   "source": [
    "stats1"
   ]
  },
  {
   "cell_type": "markdown",
   "metadata": {},
   "source": [
    "## Chain 4 cofactors"
   ]
  },
  {
   "cell_type": "code",
   "execution_count": null,
   "metadata": {},
   "outputs": [
    {
     "name": "stdout",
     "output_type": "stream",
     "text": [
      "424\n",
      "14\n"
     ]
    }
   ],
   "source": [
    "sel1 = u.select_atoms('chainID A B')\n",
    "sel2 = u.select_atoms('resname CLA CLB CHL PLQ PL9 LUT VIO XAT NEO NEX BCR')\n",
    "print(sel1.n_residues)\n",
    "print(sel2.n_residues)\n",
    "n"
   ]
  },
  {
   "cell_type": "code",
   "execution_count": null,
   "metadata": {},
   "outputs": [],
   "source": [
    "contact_matrix_obj = ContactMatrix(u, sel1, sel2, 8, group_by1=\"resids\", group_by2=\"resnames\")\n",
    "contact_matrix_list = contact_matrix_obj.calculate_contact_matrix_pai\n",
    "time_matrix_list = contact_matrix_obj.time_matrix_list(contact_matrix_list,u)\n",
    "avg_matrix, std_matrix = contact_matrix_obj.avg_std_matrix_list(contact_matrix_list)\n",
    "contact_matrix_obj.print_contact_matrix_list(contact_matrix_list)\n",
    "#Save avg_matrix and std_matrix to csv\n",
    "avg_matrix.to_csv('/martini/rubiz/Github/PsbS_Binding_Site/4_pairs/analysis/chain_4/contact_matrix_cofactors_5000ns.csv')\n"
   ]
  },
  {
   "cell_type": "code",
   "execution_count": null,
   "metadata": {},
   "outputs": [],
   "source": [
    "contact_matrix_obj = ContactMatrix(u, sel1, sel2, 8, group_by1=\"resids\", group_by2=\"resids\")\n",
    "contact_matrix_list = contact_matrix_obj.calculate_contact_matrix_per_observation(n_frames=n_frames-1)\n",
    "time_matrix_list = contact_matrix_obj.time_matrix_list(contact_matrix_list,u)\n",
    "avg_matrix, std_matrix = contact_matrix_obj.avg_std_matrix_list(contact_matrix_list)\n",
    "contact_matrix_obj.print_contact_matrix_list(contact_matrix_list)\n",
    "#Save avg_matrix and std_matrix to csv\n",
    "avg_matrix.to_csv('/martini/rubiz/Github/PsbS_Binding_Site/4_pairs/analysis/chain_4/contact_matrix_cofactors_resids_5000ns.csv')"
   ]
  },
  {
   "cell_type": "code",
   "execution_count": null,
   "metadata": {},
   "outputs": [],
   "source": [
    "#Load the contact matrix\n",
    "contact_matrix2 = pd.read_csv('/martini/rubiz/Github/PsbS_Binding_Site/4_pairs/analysis/chain_4/contact_matrix_cofactors_5000ns.csv', index_col=0)"
   ]
  },
  {
   "cell_type": "code",
   "execution_count": null,
   "metadata": {},
   "outputs": [
    {
     "data": {
      "application/vnd.microsoft.datawrangler.viewer.v0+json": {
       "columns": [
        {
         "name": "index",
         "rawType": "object",
         "type": "string"
        },
        {
         "name": "BCR",
         "rawType": "float64",
         "type": "float"
        },
        {
         "name": "CHL",
         "rawType": "float64",
         "type": "float"
        },
        {
         "name": "CLA",
         "rawType": "float64",
         "type": "float"
        },
        {
         "name": "LUT",
         "rawType": "float64",
         "type": "float"
        },
        {
         "name": "XAT",
         "rawType": "float64",
         "type": "float"
        }
       ],
       "ref": "a976b114-a658-4ba4-9883-0a96c5a06da6",
       "rows": [
        [
         "count",
         "424.0",
         "424.0",
         "424.0",
         "424.0",
         "424.0"
        ],
        [
         "mean",
         "4.589622641509434",
         "2.2287735849056602",
         "11.266509433962264",
         "10.43632075471698",
         "14.474056603773585"
        ],
        [
         "std",
         "9.5719984573334",
         "16.034596827456063",
         "66.50844494688525",
         "28.80997826963556",
         "34.580967264960066"
        ],
        [
         "min",
         "0.0",
         "0.0",
         "0.0",
         "0.0",
         "0.0"
        ],
        [
         "25%",
         "0.0",
         "0.0",
         "0.0",
         "0.0",
         "0.0"
        ],
        [
         "50%",
         "0.0",
         "0.0",
         "0.0",
         "1.0",
         "0.0"
        ],
        [
         "75%",
         "4.0",
         "0.0",
         "0.0",
         "7.0",
         "10.0"
        ],
        [
         "max",
         "60.0",
         "224.0",
         "683.0",
         "315.0",
         "252.0"
        ]
       ],
       "shape": {
        "columns": 5,
        "rows": 8
       }
      },
      "text/html": [
       "<div>\n",
       "<style scoped>\n",
       "    .dataframe tbody tr th:only-of-type {\n",
       "        vertical-align: middle;\n",
       "    }\n",
       "\n",
       "    .dataframe tbody tr th {\n",
       "        vertical-align: top;\n",
       "    }\n",
       "\n",
       "    .dataframe thead th {\n",
       "        text-align: right;\n",
       "    }\n",
       "</style>\n",
       "<table border=\"1\" class=\"dataframe\">\n",
       "  <thead>\n",
       "    <tr style=\"text-align: right;\">\n",
       "      <th></th>\n",
       "      <th>BCR</th>\n",
       "      <th>CHL</th>\n",
       "      <th>CLA</th>\n",
       "      <th>LUT</th>\n",
       "      <th>XAT</th>\n",
       "    </tr>\n",
       "  </thead>\n",
       "  <tbody>\n",
       "    <tr>\n",
       "      <th>count</th>\n",
       "      <td>424.000000</td>\n",
       "      <td>424.000000</td>\n",
       "      <td>424.000000</td>\n",
       "      <td>424.000000</td>\n",
       "      <td>424.000000</td>\n",
       "    </tr>\n",
       "    <tr>\n",
       "      <th>mean</th>\n",
       "      <td>4.589623</td>\n",
       "      <td>2.228774</td>\n",
       "      <td>11.266509</td>\n",
       "      <td>10.436321</td>\n",
       "      <td>14.474057</td>\n",
       "    </tr>\n",
       "    <tr>\n",
       "      <th>std</th>\n",
       "      <td>9.571998</td>\n",
       "      <td>16.034597</td>\n",
       "      <td>66.508445</td>\n",
       "      <td>28.809978</td>\n",
       "      <td>34.580967</td>\n",
       "    </tr>\n",
       "    <tr>\n",
       "      <th>min</th>\n",
       "      <td>0.000000</td>\n",
       "      <td>0.000000</td>\n",
       "      <td>0.000000</td>\n",
       "      <td>0.000000</td>\n",
       "      <td>0.000000</td>\n",
       "    </tr>\n",
       "    <tr>\n",
       "      <th>25%</th>\n",
       "      <td>0.000000</td>\n",
       "      <td>0.000000</td>\n",
       "      <td>0.000000</td>\n",
       "      <td>0.000000</td>\n",
       "      <td>0.000000</td>\n",
       "    </tr>\n",
       "    <tr>\n",
       "      <th>50%</th>\n",
       "      <td>0.000000</td>\n",
       "      <td>0.000000</td>\n",
       "      <td>0.000000</td>\n",
       "      <td>1.000000</td>\n",
       "      <td>0.000000</td>\n",
       "    </tr>\n",
       "    <tr>\n",
       "      <th>75%</th>\n",
       "      <td>4.000000</td>\n",
       "      <td>0.000000</td>\n",
       "      <td>0.000000</td>\n",
       "      <td>7.000000</td>\n",
       "      <td>10.000000</td>\n",
       "    </tr>\n",
       "    <tr>\n",
       "      <th>max</th>\n",
       "      <td>60.000000</td>\n",
       "      <td>224.000000</td>\n",
       "      <td>683.000000</td>\n",
       "      <td>315.000000</td>\n",
       "      <td>252.000000</td>\n",
       "    </tr>\n",
       "  </tbody>\n",
       "</table>\n",
       "</div>"
      ],
      "text/plain": [
       "              BCR         CHL         CLA         LUT         XAT\n",
       "count  424.000000  424.000000  424.000000  424.000000  424.000000\n",
       "mean     4.589623    2.228774   11.266509   10.436321   14.474057\n",
       "std      9.571998   16.034597   66.508445   28.809978   34.580967\n",
       "min      0.000000    0.000000    0.000000    0.000000    0.000000\n",
       "25%      0.000000    0.000000    0.000000    0.000000    0.000000\n",
       "50%      0.000000    0.000000    0.000000    1.000000    0.000000\n",
       "75%      4.000000    0.000000    0.000000    7.000000   10.000000\n",
       "max     60.000000  224.000000  683.000000  315.000000  252.000000"
      ]
     },
     "execution_count": 44,
     "metadata": {},
     "output_type": "execute_result"
    }
   ],
   "source": [
    "#Print the stadistics of the contact matrix\n",
    "contact_matrix2.describe()"
   ]
  },
  {
   "cell_type": "markdown",
   "metadata": {},
   "source": [
    "## Chain s proteins"
   ]
  },
  {
   "cell_type": "code",
   "execution_count": null,
   "metadata": {},
   "outputs": [
    {
     "name": "stdout",
     "output_type": "stream",
     "text": [
      "424\n",
      "244\n",
      "Number of frames:  35902\n"
     ]
    }
   ],
   "source": [
    "gro = \"/martini/rubiz/Github/PsbS_Binding_Site/4_pairs/analysis/chain_s/initial_fit.pdb\"\n",
    "xtc = \"/martini/rubiz/Github/PsbS_Binding_Site/4_pairs/analysis/chain_s/aligned.xtc\"\n",
    "u = mda.Universe(gro, xtc)\n",
    "\n",
    "sel1 = u.select_atoms('chainID A B')\n",
    "sel2 = u.select_atoms('chainID s and not resname CLA CLB CHL *HG* PLQ PL9 *GG* *SQ* *PG* LUT VIO XAT NEO NEX W2 HOH BCR')\n",
    "print(sel1.n_residues)\n",
    "print(sel2.n_residues)\n",
    "n_frames = len(u.trajectory)\n",
    "print(\"Number of frames: \", n_frames)"
   ]
  },
  {
   "cell_type": "code",
   "execution_count": null,
   "metadata": {},
   "outputs": [],
   "source": [
    "contact_matrix_obj = ContactMatrix(u, sel1, sel2, 8, group_by1=\"resids\", group_by2=\"resids\")\n",
    "contact_matrix_list = contact_matrix_obj.calculate_contact_matrix_per_observation(n_frames=n_frames-1)\n",
    "time_matrix_list = contact_matrix_obj.time_matrix_list(contact_matrix_list,u)\n",
    "avg_matrix, std_matrix = contact_matrix_obj.avg_std_matrix_list(contact_matrix_list)\n",
    "contact_matrix_obj.print_contact_matrix_list(contact_matrix_list)\n",
    "#Save avg_matrix and std_matrix to csv\n",
    "avg_matrix.to_csv('/martini/rubiz/Github/PsbS_Binding_Site/4_pairs/analysis/chain_s/contact_matrix_protein_5000ns.csv')\n",
    "\n"
   ]
  },
  {
   "cell_type": "code",
   "execution_count": null,
   "metadata": {},
   "outputs": [],
   "source": [
    "#Load the contact matrix\n",
    "contact_matrix3 = pd.read_csv('/martini/rubiz/Github/PsbS_Binding_Site/4_pairs/analysis/chain_s/contact_matrix_protein_5000ns.csv', index_col=0)"
   ]
  },
  {
   "cell_type": "code",
   "execution_count": null,
   "metadata": {},
   "outputs": [
    {
     "name": "stdout",
     "output_type": "stream",
     "text": [
      "Max value of contact matrix 3:  875.0\n"
     ]
    }
   ],
   "source": [
    "#Print max value\n",
    "print(\"Max value of contact matrix 3: \", contact_matrix3.max().max())"
   ]
  },
  {
   "cell_type": "code",
   "execution_count": null,
   "metadata": {},
   "outputs": [
    {
     "data": {
      "image/png": "[encoded data removed]",
      "text/plain": [
       "<Figure size 500x500 with 2 Axes>"
      ]
     },
     "metadata": {},
     "output_type": "display_data"
    }
   ],
   "source": [
    "#Plot matrix\n",
    "fig = plt.figure(figsize=(5,5))\n",
    "sns.heatmap(contact_matrix3, cmap=\"Reds\", vmin=0, vmax=500)\n",
    "#Invert the y axis\n",
    "plt.gca().invert_yaxis()\n",
    "plt.show()\n"
   ]
  },
  {
   "cell_type": "markdown",
   "metadata": {},
   "source": [
    "## Chain s cofactors"
   ]
  },
  {
   "cell_type": "code",
   "execution_count": null,
   "metadata": {},
   "outputs": [
    {
     "name": "stdout",
     "output_type": "stream",
     "text": [
      "424\n",
      "16\n"
     ]
    }
   ],
   "source": [
    "sel1 = u.select_atoms('chainID A B')\n",
    "sel2 = u.select_atoms('resname CLA CLB CHL PLQ PL9 LUT VIO XAT NEO NEX BCR')\n",
    "print(sel1.n_residues)\n",
    "print(sel2.n_residues)"
   ]
  },
  {
   "cell_type": "code",
   "execution_count": null,
   "metadata": {},
   "outputs": [],
   "source": [
    "contact_matrix_obj = ContactMatrix(u, sel1, sel2, 8, group_by1=\"resids\", group_by2=\"resnames\")\n",
    "contact_matrix_list = contact_matrix_obj.calculate_contact_matrix_per_observation(n_frames=n_frames-1)\n",
    "time_matrix_list = contact_matrix_obj.time_matrix_list(contact_matrix_list,u)\n",
    "avg_matrix, std_matrix = contact_matrix_obj.avg_std_matrix_list(contact_matrix_list)\n",
    "contact_matrix_obj.print_contact_matrix_list(contact_matrix_list)\n",
    "#Save avg_matrix and std_matrix to csv\n",
    "avg_matrix.to_csv('/martini/rubiz/Github/PsbS_Binding_Site/4_pairs/analysis/chain_s/contact_matrix_cofactors_5000ns.csv')"
   ]
  },
  {
   "cell_type": "code",
   "execution_count": null,
   "metadata": {},
   "outputs": [],
   "source": [
    "contact_matrix_obj = ContactMatrix(u, sel1, sel2, 8, group_by1=\"resids\", group_by2=\"resids\")\n",
    "contact_matrix_list = contact_matrix_obj.calculate_contact_matrix_per_observation(n_frames=n_frames-1)\n",
    "time_matrix_list = contact_matrix_obj.time_matrix_list(contact_matrix_list,u)\n",
    "avg_matrix, std_matrix = contact_matrix_obj.avg_std_matrix_list(contact_matrix_list)\n",
    "contact_matrix_obj.print_contact_matrix_list(contact_matrix_list)\n",
    "#Save avg_matrix and std_matrix to csv\n",
    "avg_matrix.to_csv('/martini/rubiz/Github/PsbS_Binding_Site/4_pairs/analysis/chain_s/contact_matrix_cofactors_resids_5000ns.csv')"
   ]
  },
  {
   "cell_type": "code",
   "execution_count": null,
   "metadata": {},
   "outputs": [],
   "source": [
    "#Load the contact matrix\n",
    "contact_matrix3 = pd.read_csv('/martini/rubiz/Github/PsbS_Binding_Site/4_pairs/analysis/chain_s/contact_matrix_cofactors_5000ns.csv', index_col=0)"
   ]
  },
  {
   "cell_type": "code",
   "execution_count": null,
   "metadata": {},
   "outputs": [
    {
     "data": {
      "application/vnd.microsoft.datawrangler.viewer.v0+json": {
       "columns": [
        {
         "name": "index",
         "rawType": "object",
         "type": "string"
        },
        {
         "name": "CHL",
         "rawType": "float64",
         "type": "float"
        },
        {
         "name": "CLA",
         "rawType": "float64",
         "type": "float"
        },
        {
         "name": "LUT",
         "rawType": "float64",
         "type": "float"
        },
        {
         "name": "NEX",
         "rawType": "float64",
         "type": "float"
        }
       ],
       "ref": "cdd7677c-7243-4165-b9cb-a9367bfa4cd8",
       "rows": [
        [
         "count",
         "424.0",
         "424.0",
         "424.0",
         "424.0"
        ],
        [
         "mean",
         "44.58018867924528",
         "12.547169811320755",
         "41.90094339622642",
         "103.35613207547169"
        ],
        [
         "std",
         "131.72348422696322",
         "66.37925735931317",
         "67.14991237498691",
         "188.25505323547557"
        ],
        [
         "min",
         "0.0",
         "0.0",
         "0.0",
         "0.0"
        ],
        [
         "25%",
         "0.0",
         "0.0",
         "0.0",
         "0.0"
        ],
        [
         "50%",
         "0.0",
         "0.0",
         "9.0",
         "15.0"
        ],
        [
         "75%",
         "2.0",
         "0.0",
         "58.5",
         "94.5"
        ],
        [
         "max",
         "845.0",
         "853.0",
         "484.0",
         "954.0"
        ]
       ],
       "shape": {
        "columns": 4,
        "rows": 8
       }
      },
      "text/html": [
       "<div>\n",
       "<style scoped>\n",
       "    .dataframe tbody tr th:only-of-type {\n",
       "        vertical-align: middle;\n",
       "    }\n",
       "\n",
       "    .dataframe tbody tr th {\n",
       "        vertical-align: top;\n",
       "    }\n",
       "\n",
       "    .dataframe thead th {\n",
       "        text-align: right;\n",
       "    }\n",
       "</style>\n",
       "<table border=\"1\" class=\"dataframe\">\n",
       "  <thead>\n",
       "    <tr style=\"text-align: right;\">\n",
       "      <th></th>\n",
       "      <th>CHL</th>\n",
       "      <th>CLA</th>\n",
       "      <th>LUT</th>\n",
       "      <th>NEX</th>\n",
       "    </tr>\n",
       "  </thead>\n",
       "  <tbody>\n",
       "    <tr>\n",
       "      <th>count</th>\n",
       "      <td>424.000000</td>\n",
       "      <td>424.000000</td>\n",
       "      <td>424.000000</td>\n",
       "      <td>424.000000</td>\n",
       "    </tr>\n",
       "    <tr>\n",
       "      <th>mean</th>\n",
       "      <td>44.580189</td>\n",
       "      <td>12.547170</td>\n",
       "      <td>41.900943</td>\n",
       "      <td>103.356132</td>\n",
       "    </tr>\n",
       "    <tr>\n",
       "      <th>std</th>\n",
       "      <td>131.723484</td>\n",
       "      <td>66.379257</td>\n",
       "      <td>67.149912</td>\n",
       "      <td>188.255053</td>\n",
       "    </tr>\n",
       "    <tr>\n",
       "      <th>min</th>\n",
       "      <td>0.000000</td>\n",
       "      <td>0.000000</td>\n",
       "      <td>0.000000</td>\n",
       "      <td>0.000000</td>\n",
       "    </tr>\n",
       "    <tr>\n",
       "      <th>25%</th>\n",
       "      <td>0.000000</td>\n",
       "      <td>0.000000</td>\n",
       "      <td>0.000000</td>\n",
       "      <td>0.000000</td>\n",
       "    </tr>\n",
       "    <tr>\n",
       "      <th>50%</th>\n",
       "      <td>0.000000</td>\n",
       "      <td>0.000000</td>\n",
       "      <td>9.000000</td>\n",
       "      <td>15.000000</td>\n",
       "    </tr>\n",
       "    <tr>\n",
       "      <th>75%</th>\n",
       "      <td>2.000000</td>\n",
       "      <td>0.000000</td>\n",
       "      <td>58.500000</td>\n",
       "      <td>94.500000</td>\n",
       "    </tr>\n",
       "    <tr>\n",
       "      <th>max</th>\n",
       "      <td>845.000000</td>\n",
       "      <td>853.000000</td>\n",
       "      <td>484.000000</td>\n",
       "      <td>954.000000</td>\n",
       "    </tr>\n",
       "  </tbody>\n",
       "</table>\n",
       "</div>"
      ],
      "text/plain": [
       "              CHL         CLA         LUT         NEX\n",
       "count  424.000000  424.000000  424.000000  424.000000\n",
       "mean    44.580189   12.547170   41.900943  103.356132\n",
       "std    131.723484   66.379257   67.149912  188.255053\n",
       "min      0.000000    0.000000    0.000000    0.000000\n",
       "25%      0.000000    0.000000    0.000000    0.000000\n",
       "50%      0.000000    0.000000    9.000000   15.000000\n",
       "75%      2.000000    0.000000   58.500000   94.500000\n",
       "max    845.000000  853.000000  484.000000  954.000000"
      ]
     },
     "execution_count": 49,
     "metadata": {},
     "output_type": "execute_result"
    }
   ],
   "source": [
    "#Print the stadistics of the contact matrix\n",
    "contact_matrix3.describe()"
   ]
  },
  {
   "cell_type": "markdown",
   "metadata": {},
   "source": [
    "## Chain R proteins"
   ]
  },
  {
   "cell_type": "code",
   "execution_count": null,
   "metadata": {},
   "outputs": [
    {
     "name": "stdout",
     "output_type": "stream",
     "text": [
      "424\n",
      "246\n",
      "Number of frames:  36001\n"
     ]
    }
   ],
   "source": [
    "gro = \"/martini/rubiz/Github/PsbS_Binding_Site/4_pairs/analysis/chain_r/initial_fit.pdb\"\n",
    "xtc = \"/martini/rubiz/Github/PsbS_Binding_Site/4_pairs/analysis/chain_r/aligned.xtc\"\n",
    "u = mda.Universe(gro, xtc)\n",
    "\n",
    "sel1 = u.select_atoms('chainID A B')\n",
    "sel2 = u.select_atoms('chainID r and not resname CLA CLB CHL *HG* PLQ PL9 *GG* *SQ* *PG* LUT VIO XAT NEO NEX W2 HOH BCR')\n",
    "print(sel1.n_residues)\n",
    "print(sel2.n_residues)\n",
    "n_frames = len(u.trajectory)\n",
    "print(\"Number of frames: \", n_frames)"
   ]
  },
  {
   "cell_type": "code",
   "execution_count": null,
   "metadata": {},
   "outputs": [],
   "source": [
    "contact_matrix_obj = ContactMatrix(u, sel1, sel2, 8, group_by1=\"resids\", group_by2=\"resids\")\n",
    "contact_matrix_list = contact_matrix_obj.calculate_contact_matrix_per_observation(n_frames=n_frames-1)\n",
    "time_matrix_list = contact_matrix_obj.time_matrix_list(contact_matrix_list,u)\n",
    "avg_matrix, std_matrix = contact_matrix_obj.avg_std_matrix_list(contact_matrix_list)\n",
    "contact_matrix_obj.print_contact_matrix_list(contact_matrix_list)\n",
    "#Save avg_matrix and std_matrix to csv\n",
    "avg_matrix.to_csv('/martini/rubiz/Github/PsbS_Binding_Site/4_pairs/analysis/chain_r/contact_matrix_protein_5000ns.csv')"
   ]
  },
  {
   "cell_type": "code",
   "execution_count": null,
   "metadata": {},
   "outputs": [],
   "source": [
    "#Load the contact matrix\n",
    "contact_matrix3 = pd.read_csv('/martini/rubiz/Github/PsbS_Binding_Site/4_pairs/analysis/chain_r/contact_matrix_protein_5000ns.csv', index_col=0)"
   ]
  },
  {
   "cell_type": "code",
   "execution_count": null,
   "metadata": {},
   "outputs": [
    {
     "name": "stdout",
     "output_type": "stream",
     "text": [
      "Max value of contact matrix 3:  786.0\n"
     ]
    }
   ],
   "source": [
    "#Print max value\n",
    "print(\"Max value of contact matrix 3: \", contact_matrix3.max().max())"
   ]
  },
  {
   "cell_type": "code",
   "execution_count": null,
   "metadata": {},
   "outputs": [
    {
     "data": {
      "image/png": "[encoded data removed]",
      "text/plain": [
       "<Figure size 500x500 with 2 Axes>"
      ]
     },
     "metadata": {},
     "output_type": "display_data"
    }
   ],
   "source": [
    "#Plot matrix\n",
    "fig = plt.figure(figsize=(5,5))\n",
    "sns.heatmap(contact_matrix3, cmap=\"Reds\", vmin=0, vmax=500)\n",
    "#Invert the y axis\n",
    "plt.gca().invert_yaxis()\n",
    "plt.show()"
   ]
  },
  {
   "cell_type": "markdown",
   "metadata": {},
   "source": [
    "## Chain r cofactors"
   ]
  },
  {
   "cell_type": "code",
   "execution_count": null,
   "metadata": {},
   "outputs": [
    {
     "name": "stdout",
     "output_type": "stream",
     "text": [
      "424\n",
      "17\n"
     ]
    }
   ],
   "source": [
    "sel1 = u.select_atoms('chainID A B')\n",
    "sel2 = u.select_atoms('resname CLA CLB CHL PLQ PL9 LUT VIO XAT NEO NEX W2 BCR')\n",
    "print(sel1.n_residues)\n",
    "print(sel2.n_residues)"
   ]
  },
  {
   "cell_type": "code",
   "execution_count": null,
   "metadata": {},
   "outputs": [],
   "source": [
    "contact_matrix_obj = ContactMatrix(u, sel1, sel2, 8, group_by1=\"resids\", group_by2=\"resnames\")\n",
    "contact_matrix_list = contact_matrix_obj.calculate_contact_matrix_per_observation(n_frames=n_frames-1)\n",
    "time_matrix_list = contact_matrix_obj.time_matrix_list(contact_matrix_list,u)\n",
    "avg_matrix, std_matrix = contact_matrix_obj.avg_std_matrix_list(contact_matrix_list)\n",
    "contact_matrix_obj.print_contact_matrix_list(contact_matrix_list)\n",
    "#Save avg_matrix and std_matrix to csv\n",
    "avg_matrix.to_csv('/martini/rubiz/Github/PsbS_Binding_Site/4_pairs/analysis/chain_r/contact_matrix_cofactors_5000ns.csv')"
   ]
  },
  {
   "cell_type": "code",
   "execution_count": null,
   "metadata": {},
   "outputs": [],
   "source": [
    "contact_matrix_obj = ContactMatrix(u, sel1, sel2, 8, group_by1=\"resids\", group_by2=\"resids\")\n",
    "contact_matrix_list = contact_matrix_obj.calculate_contact_matrix_per_observation(n_frames=n_frames-1)\n",
    "time_matrix_list = contact_matrix_obj.time_matrix_list(contact_matrix_list,u)\n",
    "avg_matrix, std_matrix = contact_matrix_obj.avg_std_matrix_list(contact_matrix_list)\n",
    "contact_matrix_obj.print_contact_matrix_list(contact_matrix_list)\n",
    "#Save avg_matrix and std_matrix to csv\n",
    "avg_matrix.to_csv('/martini/rubiz/Github/PsbS_Binding_Site/4_pairs/analysis/chain_r/contact_matrix_cofactors_resids_5000ns.csv')"
   ]
  },
  {
   "cell_type": "code",
   "execution_count": null,
   "metadata": {},
   "outputs": [],
   "source": [
    "#Load the contact matrix\n",
    "contact_matrix3 = pd.read_csv('/martini/rubiz/Github/PsbS_Binding_Site/4_pairs/analysis/chain_r/contact_matrix_cofactors_5000ns.csv', index_col=0)"
   ]
  },
  {
   "cell_type": "code",
   "execution_count": null,
   "metadata": {},
   "outputs": [
    {
     "data": {
      "application/vnd.microsoft.datawrangler.viewer.v0+json": {
       "columns": [
        {
         "name": "index",
         "rawType": "object",
         "type": "string"
        },
        {
         "name": "CHL",
         "rawType": "float64",
         "type": "float"
        },
        {
         "name": "CLA",
         "rawType": "float64",
         "type": "float"
        },
        {
         "name": "LUT",
         "rawType": "float64",
         "type": "float"
        },
        {
         "name": "NEX",
         "rawType": "float64",
         "type": "float"
        },
        {
         "name": "XAT",
         "rawType": "float64",
         "type": "float"
        }
       ],
       "ref": "7a842b34-353b-446f-b917-0218eea5c788",
       "rows": [
        [
         "count",
         "424.0",
         "424.0",
         "424.0",
         "424.0",
         "424.0"
        ],
        [
         "mean",
         "3.0849056603773586",
         "23.077830188679247",
         "25.316037735849058",
         "11.820754716981131",
         "18.596698113207548"
        ],
        [
         "std",
         "15.021099690930924",
         "72.96934865431462",
         "43.4364743872565",
         "26.650632473721647",
         "53.40744043261665"
        ],
        [
         "min",
         "0.0",
         "0.0",
         "0.0",
         "0.0",
         "0.0"
        ],
        [
         "25%",
         "0.0",
         "0.0",
         "0.0",
         "0.0",
         "0.0"
        ],
        [
         "50%",
         "0.0",
         "0.0",
         "4.0",
         "0.0",
         "0.0"
        ],
        [
         "75%",
         "0.0",
         "0.0",
         "34.25",
         "7.0",
         "8.0"
        ],
        [
         "max",
         "137.0",
         "664.0",
         "250.0",
         "167.0",
         "425.0"
        ]
       ],
       "shape": {
        "columns": 5,
        "rows": 8
       }
      },
      "text/html": [
       "<div>\n",
       "<style scoped>\n",
       "    .dataframe tbody tr th:only-of-type {\n",
       "        vertical-align: middle;\n",
       "    }\n",
       "\n",
       "    .dataframe tbody tr th {\n",
       "        vertical-align: top;\n",
       "    }\n",
       "\n",
       "    .dataframe thead th {\n",
       "        text-align: right;\n",
       "    }\n",
       "</style>\n",
       "<table border=\"1\" class=\"dataframe\">\n",
       "  <thead>\n",
       "    <tr style=\"text-align: right;\">\n",
       "      <th></th>\n",
       "      <th>CHL</th>\n",
       "      <th>CLA</th>\n",
       "      <th>LUT</th>\n",
       "      <th>NEX</th>\n",
       "      <th>XAT</th>\n",
       "    </tr>\n",
       "  </thead>\n",
       "  <tbody>\n",
       "    <tr>\n",
       "      <th>count</th>\n",
       "      <td>424.000000</td>\n",
       "      <td>424.000000</td>\n",
       "      <td>424.000000</td>\n",
       "      <td>424.000000</td>\n",
       "      <td>424.000000</td>\n",
       "    </tr>\n",
       "    <tr>\n",
       "      <th>mean</th>\n",
       "      <td>3.084906</td>\n",
       "      <td>23.077830</td>\n",
       "      <td>25.316038</td>\n",
       "      <td>11.820755</td>\n",
       "      <td>18.596698</td>\n",
       "    </tr>\n",
       "    <tr>\n",
       "      <th>std</th>\n",
       "      <td>15.021100</td>\n",
       "      <td>72.969349</td>\n",
       "      <td>43.436474</td>\n",
       "      <td>26.650632</td>\n",
       "      <td>53.407440</td>\n",
       "    </tr>\n",
       "    <tr>\n",
       "      <th>min</th>\n",
       "      <td>0.000000</td>\n",
       "      <td>0.000000</td>\n",
       "      <td>0.000000</td>\n",
       "      <td>0.000000</td>\n",
       "      <td>0.000000</td>\n",
       "    </tr>\n",
       "    <tr>\n",
       "      <th>25%</th>\n",
       "      <td>0.000000</td>\n",
       "      <td>0.000000</td>\n",
       "      <td>0.000000</td>\n",
       "      <td>0.000000</td>\n",
       "      <td>0.000000</td>\n",
       "    </tr>\n",
       "    <tr>\n",
       "      <th>50%</th>\n",
       "      <td>0.000000</td>\n",
       "      <td>0.000000</td>\n",
       "      <td>4.000000</td>\n",
       "      <td>0.000000</td>\n",
       "      <td>0.000000</td>\n",
       "    </tr>\n",
       "    <tr>\n",
       "      <th>75%</th>\n",
       "      <td>0.000000</td>\n",
       "      <td>0.000000</td>\n",
       "      <td>34.250000</td>\n",
       "      <td>7.000000</td>\n",
       "      <td>8.000000</td>\n",
       "    </tr>\n",
       "    <tr>\n",
       "      <th>max</th>\n",
       "      <td>137.000000</td>\n",
       "      <td>664.000000</td>\n",
       "      <td>250.000000</td>\n",
       "      <td>167.000000</td>\n",
       "      <td>425.000000</td>\n",
       "    </tr>\n",
       "  </tbody>\n",
       "</table>\n",
       "</div>"
      ],
      "text/plain": [
       "              CHL         CLA         LUT         NEX         XAT\n",
       "count  424.000000  424.000000  424.000000  424.000000  424.000000\n",
       "mean     3.084906   23.077830   25.316038   11.820755   18.596698\n",
       "std     15.021100   72.969349   43.436474   26.650632   53.407440\n",
       "min      0.000000    0.000000    0.000000    0.000000    0.000000\n",
       "25%      0.000000    0.000000    0.000000    0.000000    0.000000\n",
       "50%      0.000000    0.000000    4.000000    0.000000    0.000000\n",
       "75%      0.000000    0.000000   34.250000    7.000000    8.000000\n",
       "max    137.000000  664.000000  250.000000  167.000000  425.000000"
      ]
     },
     "execution_count": 51,
     "metadata": {},
     "output_type": "execute_result"
    }
   ],
   "source": [
    "#Print the stadistics of the contact matrix\n",
    "contact_matrix3.describe()"
   ]
  },
  {
   "cell_type": "markdown",
   "metadata": {},
   "source": [
    "## Chain c"
   ]
  },
  {
   "cell_type": "code",
   "execution_count": null,
   "metadata": {},
   "outputs": [
    {
     "name": "stdout",
     "output_type": "stream",
     "text": [
      "424\n",
      "473\n",
      "Number of frames:  36001\n"
     ]
    }
   ],
   "source": [
    "# Chain R\n",
    "gro = \"/martini/rubiz/Github/PsbS_Binding_Site/4_pairs/analysis/chain_c/initial_fit.pdb\"\n",
    "xtc = \"/martini/rubiz/Github/PsbS_Binding_Site/4_pairs/analysis/chain_c/aligned.xtc\"\n",
    "u = mda.Universe(gro, xtc)\n",
    "\n",
    "sel1 = u.select_atoms('chainID A B')\n",
    "sel2 = u.select_atoms('chainID c and not resname CLA CLB CHL *HG* PLQ PL9 *DG* *MG* *SQ* *PG* LUT VIO XAT NEO NEX W2 HOH BCR')\n",
    "print(sel1.n_residues)\n",
    "print(sel2.n_residues)\n",
    "n_frames = len(u.trajectory)\n",
    "print(\"Number of frames: \", n_frames)\n",
    "\n",
    "\n"
   ]
  },
  {
   "cell_type": "code",
   "execution_count": null,
   "metadata": {},
   "outputs": [],
   "source": [
    "contact_matrix_obj = ContactMatrix(u, sel1, sel2, 8, group_by1=\"resids\", group_by2=\"resids\")\n",
    "contact_matrix_list = contact_matrix_obj.calculate_contact_matrix_per_observation(n_frames=n_frames-1)\n",
    "time_matrix_list = contact_matrix_obj.time_matrix_list(contact_matrix_list,u)\n",
    "avg_matrix, std_matrix = contact_matrix_obj.avg_std_matrix_list(contact_matrix_list)\n",
    "contact_matrix_obj.print_contact_matrix_list(contact_matrix_list)\n",
    "#Save avg_matrix and std_matrix to csv\n",
    "avg_matrix.to_csv('/martini/rubiz/Github/PsbS_Binding_Site/4_pairs/analysis/chain_c/contact_matrix_protein_5000ns.csv')"
   ]
  },
  {
   "cell_type": "code",
   "execution_count": null,
   "metadata": {},
   "outputs": [
    {
     "name": "stdout",
     "output_type": "stream",
     "text": [
      "Max value of contact matrix 3:  710.0\n"
     ]
    }
   ],
   "source": [
    "#Load the contact matrix\n",
    "contact_chainc_protein = pd.read_csv('/martini/rubiz/Github/PsbS_Binding_Site/4_pairs/analysis/chain_c/contact_matrix_protein_5000ns.csv', index_col=0)\n",
    "#Print max value\n",
    "print(\"Max value of contact matrix 3: \", contact_matrix3.max().max())"
   ]
  },
  {
   "cell_type": "code",
   "execution_count": null,
   "metadata": {},
   "outputs": [
    {
     "data": {
      "image/png": "[encoded data removed]",
      "text/plain": [
       "<Figure size 500x500 with 2 Axes>"
      ]
     },
     "metadata": {},
     "output_type": "display_data"
    }
   ],
   "source": [
    "#Plot matrix\n",
    "fig = plt.figure(figsize=(5,5))\n",
    "sns.heatmap(contact_matrix3, cmap=\"Reds\", vmin=0, vmax=500)\n",
    "#Invert the y axis\n",
    "plt.gca().invert_yaxis()\n",
    "plt.show()"
   ]
  },
  {
   "cell_type": "markdown",
   "metadata": {},
   "source": [
    "## Chain c cofactors"
   ]
  },
  {
   "cell_type": "code",
   "execution_count": null,
   "metadata": {},
   "outputs": [],
   "source": [
    "sel2 = u.select_atoms('resname CLA CLB CHL PLQ PL9 LUT VIO XAT NEO NEX BCR *HG* *DG* *MG* *SQ* *PG* W2 HOH')\n",
    "#Per resid, used for bfactors\n",
    "contact_matrix_obj = ContactMatrix(u, sel1, sel2, 8, group_by1=\"resids\", group_by2=\"resids\")\n",
    "contact_matrix_list = contact_matrix_obj.calculate_contact_matrix_per_observation(n_frames=n_frames-1)\n",
    "time_matrix_list = contact_matrix_obj.time_matrix_list(contact_matrix_list,u)\n",
    "avg_matrix, std_matrix = contact_matrix_obj.avg_std_matrix_list(contact_matrix_list)\n",
    "contact_matrix_obj.print_contact_matrix_list(contact_matrix_list)\n",
    "#Save avg_matrix and std_matrix to csv\n",
    "avg_matrix.to_csv('/martini/rubiz/Github/PsbS_Binding_Site/4_pairs/analysis/chain_c/contact_matrix_cofactors_resids_5000ns.csv')"
   ]
  },
  {
   "cell_type": "code",
   "execution_count": null,
   "metadata": {},
   "outputs": [
    {
     "data": {
      "application/vnd.microsoft.datawrangler.viewer.v0+json": {
       "columns": [
        {
         "name": "index",
         "rawType": "object",
         "type": "string"
        },
        {
         "name": "501",
         "rawType": "float64",
         "type": "float"
        },
        {
         "name": "502",
         "rawType": "float64",
         "type": "float"
        },
        {
         "name": "503",
         "rawType": "float64",
         "type": "float"
        },
        {
         "name": "504",
         "rawType": "float64",
         "type": "float"
        },
        {
         "name": "505",
         "rawType": "float64",
         "type": "float"
        },
        {
         "name": "506",
         "rawType": "float64",
         "type": "float"
        },
        {
         "name": "507",
         "rawType": "float64",
         "type": "float"
        },
        {
         "name": "508",
         "rawType": "float64",
         "type": "float"
        },
        {
         "name": "509",
         "rawType": "float64",
         "type": "float"
        },
        {
         "name": "510",
         "rawType": "float64",
         "type": "float"
        },
        {
         "name": "511",
         "rawType": "float64",
         "type": "float"
        },
        {
         "name": "512",
         "rawType": "float64",
         "type": "float"
        },
        {
         "name": "513",
         "rawType": "float64",
         "type": "float"
        },
        {
         "name": "514",
         "rawType": "float64",
         "type": "float"
        },
        {
         "name": "515",
         "rawType": "float64",
         "type": "float"
        },
        {
         "name": "516",
         "rawType": "float64",
         "type": "float"
        },
        {
         "name": "517",
         "rawType": "float64",
         "type": "float"
        },
        {
         "name": "518",
         "rawType": "float64",
         "type": "float"
        },
        {
         "name": "519",
         "rawType": "float64",
         "type": "float"
        },
        {
         "name": "520",
         "rawType": "float64",
         "type": "float"
        },
        {
         "name": "521",
         "rawType": "float64",
         "type": "float"
        },
        {
         "name": "522",
         "rawType": "float64",
         "type": "float"
        },
        {
         "name": "523",
         "rawType": "float64",
         "type": "float"
        },
        {
         "name": "694",
         "rawType": "float64",
         "type": "float"
        },
        {
         "name": "715",
         "rawType": "float64",
         "type": "float"
        },
        {
         "name": "744",
         "rawType": "float64",
         "type": "float"
        },
        {
         "name": "1001",
         "rawType": "float64",
         "type": "float"
        },
        {
         "name": "1003",
         "rawType": "float64",
         "type": "float"
        },
        {
         "name": "1004",
         "rawType": "float64",
         "type": "float"
        },
        {
         "name": "1005",
         "rawType": "float64",
         "type": "float"
        },
        {
         "name": "1006",
         "rawType": "float64",
         "type": "float"
        },
        {
         "name": "1007",
         "rawType": "float64",
         "type": "float"
        },
        {
         "name": "1008",
         "rawType": "float64",
         "type": "float"
        },
        {
         "name": "1013",
         "rawType": "float64",
         "type": "float"
        },
        {
         "name": "1014",
         "rawType": "float64",
         "type": "float"
        },
        {
         "name": "1015",
         "rawType": "float64",
         "type": "float"
        },
        {
         "name": "1016",
         "rawType": "float64",
         "type": "float"
        },
        {
         "name": "1017",
         "rawType": "float64",
         "type": "float"
        },
        {
         "name": "1018",
         "rawType": "float64",
         "type": "float"
        },
        {
         "name": "1019",
         "rawType": "float64",
         "type": "float"
        },
        {
         "name": "1021",
         "rawType": "float64",
         "type": "float"
        },
        {
         "name": "1023",
         "rawType": "float64",
         "type": "float"
        },
        {
         "name": "1025",
         "rawType": "float64",
         "type": "float"
        },
        {
         "name": "1030",
         "rawType": "float64",
         "type": "float"
        },
        {
         "name": "1031",
         "rawType": "float64",
         "type": "float"
        },
        {
         "name": "1033",
         "rawType": "float64",
         "type": "float"
        },
        {
         "name": "1034",
         "rawType": "float64",
         "type": "float"
        },
        {
         "name": "1035",
         "rawType": "float64",
         "type": "float"
        },
        {
         "name": "1036",
         "rawType": "float64",
         "type": "float"
        },
        {
         "name": "1037",
         "rawType": "float64",
         "type": "float"
        },
        {
         "name": "1039",
         "rawType": "float64",
         "type": "float"
        },
        {
         "name": "1040",
         "rawType": "float64",
         "type": "float"
        },
        {
         "name": "1041",
         "rawType": "float64",
         "type": "float"
        },
        {
         "name": "1042",
         "rawType": "float64",
         "type": "float"
        },
        {
         "name": "1043",
         "rawType": "float64",
         "type": "float"
        },
        {
         "name": "1044",
         "rawType": "float64",
         "type": "float"
        },
        {
         "name": "1045",
         "rawType": "float64",
         "type": "float"
        },
        {
         "name": "1046",
         "rawType": "float64",
         "type": "float"
        },
        {
         "name": "1047",
         "rawType": "float64",
         "type": "float"
        },
        {
         "name": "1048",
         "rawType": "float64",
         "type": "float"
        },
        {
         "name": "1050",
         "rawType": "float64",
         "type": "float"
        },
        {
         "name": "1051",
         "rawType": "float64",
         "type": "float"
        },
        {
         "name": "1052",
         "rawType": "float64",
         "type": "float"
        },
        {
         "name": "1054",
         "rawType": "float64",
         "type": "float"
        },
        {
         "name": "1055",
         "rawType": "float64",
         "type": "float"
        },
        {
         "name": "1056",
         "rawType": "float64",
         "type": "float"
        },
        {
         "name": "1057",
         "rawType": "float64",
         "type": "float"
        },
        {
         "name": "1058",
         "rawType": "float64",
         "type": "float"
        },
        {
         "name": "1059",
         "rawType": "float64",
         "type": "float"
        },
        {
         "name": "1061",
         "rawType": "float64",
         "type": "float"
        },
        {
         "name": "1200",
         "rawType": "float64",
         "type": "float"
        },
        {
         "name": "1201",
         "rawType": "float64",
         "type": "float"
        },
        {
         "name": "1202",
         "rawType": "float64",
         "type": "float"
        },
        {
         "name": "1203",
         "rawType": "float64",
         "type": "float"
        },
        {
         "name": "1205",
         "rawType": "float64",
         "type": "float"
        },
        {
         "name": "1206",
         "rawType": "float64",
         "type": "float"
        },
        {
         "name": "1207",
         "rawType": "float64",
         "type": "float"
        },
        {
         "name": "1208",
         "rawType": "float64",
         "type": "float"
        },
        {
         "name": "1209",
         "rawType": "float64",
         "type": "float"
        },
        {
         "name": "1210",
         "rawType": "float64",
         "type": "float"
        },
        {
         "name": "1211",
         "rawType": "float64",
         "type": "float"
        },
        {
         "name": "1212",
         "rawType": "float64",
         "type": "float"
        },
        {
         "name": "1213",
         "rawType": "float64",
         "type": "float"
        },
        {
         "name": "1214",
         "rawType": "float64",
         "type": "float"
        },
        {
         "name": "1215",
         "rawType": "float64",
         "type": "float"
        },
        {
         "name": "1216",
         "rawType": "float64",
         "type": "float"
        },
        {
         "name": "1217",
         "rawType": "float64",
         "type": "float"
        },
        {
         "name": "1218",
         "rawType": "float64",
         "type": "float"
        },
        {
         "name": "1219",
         "rawType": "float64",
         "type": "float"
        },
        {
         "name": "1220",
         "rawType": "float64",
         "type": "float"
        },
        {
         "name": "1221",
         "rawType": "float64",
         "type": "float"
        },
        {
         "name": "2630",
         "rawType": "float64",
         "type": "float"
        }
       ],
       "ref": "7cf2e1d1-9a51-43d8-95f9-34ae6f935d94",
       "rows": [
        [
         "count",
         "424.0",
         "424.0",
         "424.0",
         "424.0",
         "424.0",
         "424.0",
         "424.0",
         "424.0",
         "424.0",
         "424.0",
         "424.0",
         "424.0",
         "424.0",
         "424.0",
         "424.0",
         "424.0",
         "424.0",
         "424.0",
         "424.0",
         "424.0",
         "424.0",
         "424.0",
         "424.0",
         "424.0",
         "424.0",
         "424.0",
         "424.0",
         "424.0",
         "424.0",
         "424.0",
         "424.0",
         "424.0",
         "424.0",
         "424.0",
         "424.0",
         "424.0",
         "424.0",
         "424.0",
         "424.0",
         "424.0",
         "424.0",
         "424.0",
         "424.0",
         "424.0",
         "424.0",
         "424.0",
         "424.0",
         "424.0",
         "424.0",
         "424.0",
         "424.0",
         "424.0",
         "424.0",
         "424.0",
         "424.0",
         "424.0",
         "424.0",
         "424.0",
         "424.0",
         "424.0",
         "424.0",
         "424.0",
         "424.0",
         "424.0",
         "424.0",
         "424.0",
         "424.0",
         "424.0",
         "424.0",
         "424.0",
         "424.0",
         "424.0",
         "424.0",
         "424.0",
         "424.0",
         "424.0",
         "424.0",
         "424.0",
         "424.0",
         "424.0",
         "424.0",
         "424.0",
         "424.0",
         "424.0",
         "424.0",
         "424.0",
         "424.0",
         "424.0",
         "424.0",
         "424.0",
         "424.0",
         "424.0"
        ],
        [
         "mean",
         "0.0",
         "0.0",
         "0.0",
         "0.4481132075471698",
         "0.054245283018867926",
         "0.018867924528301886",
         "0.0",
         "0.10613207547169812",
         "0.0",
         "0.0",
         "0.21462264150943397",
         "0.0",
         "13.101415094339623",
         "3.608490566037736",
         "3.849056603773585",
         "2.6179245283018866",
         "3.856132075471698",
         "0.018867924528301886",
         "29.76179245283019",
         "6.327830188679245",
         "6.110849056603773",
         "17.86320754716981",
         "23.014150943396228",
         "2.0542452830188678",
         "3.417452830188679",
         "1.9882075471698113",
         "0.4882075471698113",
         "2.5589622641509435",
         "2.9622641509433962",
         "2.8042452830188678",
         "1.8820754716981132",
         "1.5",
         "2.0235849056603774",
         "3.4504716981132075",
         "4.337264150943396",
         "1.8325471698113207",
         "3.9976415094339623",
         "2.7547169811320753",
         "2.856132075471698",
         "5.34433962264151",
         "7.412735849056604",
         "3.518867924528302",
         "3.181603773584906",
         "2.80188679245283",
         "2.5306603773584904",
         "2.188679245283019",
         "3.1627358490566038",
         "2.3679245283018866",
         "1.929245283018868",
         "2.827830188679245",
         "3.2806603773584904",
         "2.3349056603773586",
         "2.391509433962264",
         "6.509433962264151",
         "2.2617924528301887",
         "1.8254716981132075",
         "2.2122641509433962",
         "2.8608490566037736",
         "2.2169811320754715",
         "4.238207547169812",
         "4.39622641509434",
         "3.1792452830188678",
         "4.382075471698113",
         "3.957547169811321",
         "1.259433962264151",
         "4.634433962264151",
         "3.285377358490566",
         "2.7617924528301887",
         "5.014150943396227",
         "2.115566037735849",
         "3.1910377358490565",
         "3.8466981132075473",
         "3.417452830188679",
         "6.827830188679245",
         "2.9504716981132075",
         "2.608490566037736",
         "3.3608490566037736",
         "1.9575471698113207",
         "9.122641509433961",
         "1.4410377358490567",
         "1.8938679245283019",
         "2.141509433962264",
         "1.8349056603773586",
         "2.207547169811321",
         "2.1226415094339623",
         "3.0",
         "3.042452830188679",
         "2.4410377358490565",
         "1.8183962264150944",
         "2.233490566037736",
         "1.8113207547169812",
         "23.900943396226417"
        ],
        [
         "std",
         "0.0",
         "0.0",
         "0.0",
         "3.7076556446882636",
         "0.5139941369227243",
         "0.38851434494290565",
         "0.0",
         "1.3423666132464722",
         "0.0",
         "0.0",
         "2.162144402019335",
         "0.0",
         "65.33175275174027",
         "9.269157458244324",
         "9.024571085024265",
         "5.9854243315974465",
         "8.281144959239798",
         "0.15259037243001272",
         "84.15648686472771",
         "20.08795268400754",
         "12.324588628290797",
         "43.58025845268885",
         "72.12551305739713",
         "3.041770806918508",
         "6.053174703661015",
         "3.487546584159199",
         "0.9723616029265958",
         "4.373930384181353",
         "5.3172177233743385",
         "3.5158379778850626",
         "2.772758299966883",
         "2.364033096695032",
         "3.107895896793124",
         "6.883866070030639",
         "8.53705194164878",
         "2.785096629659451",
         "6.3146416300608825",
         "3.810055926209708",
         "5.200069115880864",
         "8.537184195252822",
         "24.480743202960625",
         "6.181618648644269",
         "4.634901135185173",
         "3.7458751121664586",
         "5.022314606564908",
         "3.317303891306173",
         "5.469401501181198",
         "3.603453745695072",
         "2.8525122097191944",
         "4.098212608079896",
         "5.465905805703093",
         "3.3532889878440613",
         "3.3187658398378126",
         "18.8621954369082",
         "3.8327754875429116",
         "2.809593875256344",
         "3.559323728636752",
         "4.653677488934494",
         "3.029421425715488",
         "7.886149248588104",
         "8.057041611692183",
         "4.587571182895555",
         "13.040771106367293",
         "7.699933352856483",
         "2.079656195530837",
         "9.844456656697973",
         "4.885078680092248",
         "4.061856543036408",
         "11.17641842578498",
         "3.064066606744966",
         "7.022006263896654",
         "5.753616475482771",
         "7.905037871929204",
         "21.956352123940835",
         "3.9512274496079276",
         "3.631035591347437",
         "5.1045314533046895",
         "2.8547318145483187",
         "22.42537520429065",
         "2.5803979861436397",
         "2.935163861702508",
         "3.321080114952729",
         "2.5285338056290683",
         "2.846646174397899",
         "3.6083769890761372",
         "5.313349083863928",
         "7.396126366034861",
         "3.372299179704833",
         "3.0039440226697374",
         "3.528299784750324",
         "2.989700863606121",
         "53.92986075361766"
        ],
        [
         "min",
         "0.0",
         "0.0",
         "0.0",
         "0.0",
         "0.0",
         "0.0",
         "0.0",
         "0.0",
         "0.0",
         "0.0",
         "0.0",
         "0.0",
         "0.0",
         "0.0",
         "0.0",
         "0.0",
         "0.0",
         "0.0",
         "0.0",
         "0.0",
         "0.0",
         "0.0",
         "0.0",
         "0.0",
         "0.0",
         "0.0",
         "0.0",
         "0.0",
         "0.0",
         "0.0",
         "0.0",
         "0.0",
         "0.0",
         "0.0",
         "0.0",
         "0.0",
         "0.0",
         "0.0",
         "0.0",
         "0.0",
         "0.0",
         "0.0",
         "0.0",
         "0.0",
         "0.0",
         "0.0",
         "0.0",
         "0.0",
         "0.0",
         "0.0",
         "0.0",
         "0.0",
         "0.0",
         "0.0",
         "0.0",
         "0.0",
         "0.0",
         "0.0",
         "0.0",
         "0.0",
         "0.0",
         "0.0",
         "0.0",
         "0.0",
         "0.0",
         "0.0",
         "0.0",
         "0.0",
         "0.0",
         "0.0",
         "0.0",
         "0.0",
         "0.0",
         "0.0",
         "0.0",
         "0.0",
         "0.0",
         "0.0",
         "0.0",
         "0.0",
         "0.0",
         "0.0",
         "0.0",
         "0.0",
         "0.0",
         "0.0",
         "0.0",
         "0.0",
         "0.0",
         "0.0",
         "0.0",
         "0.0"
        ],
        [
         "25%",
         "0.0",
         "0.0",
         "0.0",
         "0.0",
         "0.0",
         "0.0",
         "0.0",
         "0.0",
         "0.0",
         "0.0",
         "0.0",
         "0.0",
         "0.0",
         "0.0",
         "0.0",
         "0.0",
         "0.0",
         "0.0",
         "0.0",
         "0.0",
         "0.0",
         "0.0",
         "0.0",
         "0.0",
         "0.0",
         "0.0",
         "0.0",
         "0.0",
         "0.0",
         "0.0",
         "0.0",
         "0.0",
         "0.0",
         "0.0",
         "0.0",
         "0.0",
         "0.0",
         "0.0",
         "0.0",
         "0.0",
         "0.0",
         "0.0",
         "0.0",
         "0.0",
         "0.0",
         "0.0",
         "0.0",
         "0.0",
         "0.0",
         "0.0",
         "0.0",
         "0.0",
         "0.0",
         "0.0",
         "0.0",
         "0.0",
         "0.0",
         "0.0",
         "0.0",
         "0.0",
         "0.0",
         "0.0",
         "0.0",
         "0.0",
         "0.0",
         "0.0",
         "0.0",
         "0.0",
         "0.0",
         "0.0",
         "0.0",
         "0.0",
         "0.0",
         "0.0",
         "0.0",
         "0.0",
         "0.0",
         "0.0",
         "0.0",
         "0.0",
         "0.0",
         "0.0",
         "0.0",
         "0.0",
         "0.0",
         "0.0",
         "0.0",
         "0.0",
         "0.0",
         "0.0",
         "0.0",
         "0.0"
        ],
        [
         "50%",
         "0.0",
         "0.0",
         "0.0",
         "0.0",
         "0.0",
         "0.0",
         "0.0",
         "0.0",
         "0.0",
         "0.0",
         "0.0",
         "0.0",
         "0.0",
         "0.0",
         "0.0",
         "0.0",
         "0.0",
         "0.0",
         "0.0",
         "0.0",
         "0.0",
         "1.0",
         "1.0",
         "0.0",
         "1.0",
         "0.0",
         "0.0",
         "1.0",
         "1.0",
         "1.0",
         "0.0",
         "0.0",
         "0.0",
         "1.0",
         "1.0",
         "0.0",
         "2.0",
         "1.0",
         "1.0",
         "3.0",
         "1.0",
         "1.0",
         "1.0",
         "1.0",
         "0.0",
         "0.0",
         "1.0",
         "0.0",
         "0.0",
         "1.0",
         "1.0",
         "0.0",
         "1.0",
         "1.0",
         "0.0",
         "0.0",
         "0.0",
         "0.0",
         "0.0",
         "1.0",
         "1.0",
         "1.0",
         "0.5",
         "1.0",
         "0.0",
         "1.0",
         "1.0",
         "1.0",
         "2.0",
         "0.0",
         "0.0",
         "1.0",
         "0.0",
         "1.0",
         "1.0",
         "1.0",
         "2.0",
         "0.0",
         "3.0",
         "0.0",
         "0.0",
         "0.0",
         "0.0",
         "1.0",
         "0.0",
         "1.0",
         "0.0",
         "1.0",
         "0.0",
         "1.0",
         "0.0",
         "0.0"
        ],
        [
         "75%",
         "0.0",
         "0.0",
         "0.0",
         "0.0",
         "0.0",
         "0.0",
         "0.0",
         "0.0",
         "0.0",
         "0.0",
         "0.0",
         "0.0",
         "0.0",
         "3.0",
         "3.0",
         "2.0",
         "3.25",
         "0.0",
         "8.0",
         "1.0",
         "6.0",
         "16.0",
         "12.0",
         "3.0",
         "4.0",
         "2.0",
         "1.0",
         "3.0",
         "4.0",
         "5.0",
         "3.0",
         "2.0",
         "3.0",
         "4.0",
         "5.0",
         "3.0",
         "5.0",
         "4.25",
         "4.0",
         "7.0",
         "4.0",
         "5.0",
         "5.0",
         "5.0",
         "3.0",
         "4.0",
         "4.0",
         "3.0",
         "3.0",
         "4.0",
         "5.0",
         "4.0",
         "4.0",
         "6.0",
         "3.0",
         "3.0",
         "3.0",
         "4.0",
         "4.0",
         "5.0",
         "5.25",
         "5.0",
         "4.0",
         "4.0",
         "2.0",
         "5.25",
         "5.0",
         "4.0",
         "5.0",
         "3.0",
         "4.0",
         "5.0",
         "3.0",
         "5.0",
         "5.0",
         "5.0",
         "5.0",
         "3.0",
         "7.0",
         "2.0",
         "3.0",
         "3.0",
         "3.0",
         "4.0",
         "3.0",
         "4.0",
         "3.0",
         "4.0",
         "3.0",
         "3.0",
         "3.0",
         "18.25"
        ],
        [
         "max",
         "0.0",
         "0.0",
         "0.0",
         "49.0",
         "8.0",
         "8.0",
         "0.0",
         "25.0",
         "0.0",
         "0.0",
         "34.0",
         "0.0",
         "561.0",
         "119.0",
         "93.0",
         "57.0",
         "58.0",
         "2.0",
         "609.0",
         "138.0",
         "101.0",
         "360.0",
         "710.0",
         "17.0",
         "36.0",
         "21.0",
         "6.0",
         "24.0",
         "35.0",
         "19.0",
         "14.0",
         "12.0",
         "14.0",
         "57.0",
         "70.0",
         "16.0",
         "38.0",
         "16.0",
         "37.0",
         "75.0",
         "162.0",
         "44.0",
         "36.0",
         "19.0",
         "32.0",
         "17.0",
         "44.0",
         "19.0",
         "13.0",
         "23.0",
         "40.0",
         "16.0",
         "19.0",
         "138.0",
         "22.0",
         "16.0",
         "21.0",
         "26.0",
         "14.0",
         "59.0",
         "51.0",
         "28.0",
         "106.0",
         "58.0",
         "13.0",
         "82.0",
         "30.0",
         "20.0",
         "93.0",
         "19.0",
         "47.0",
         "34.0",
         "61.0",
         "173.0",
         "19.0",
         "19.0",
         "36.0",
         "16.0",
         "171.0",
         "17.0",
         "19.0",
         "19.0",
         "14.0",
         "16.0",
         "22.0",
         "36.0",
         "51.0",
         "18.0",
         "15.0",
         "22.0",
         "17.0",
         "392.0"
        ]
       ],
       "shape": {
        "columns": 92,
        "rows": 8
       }
      },
      "text/html": [
       "<div>\n",
       "<style scoped>\n",
       "    .dataframe tbody tr th:only-of-type {\n",
       "        vertical-align: middle;\n",
       "    }\n",
       "\n",
       "    .dataframe tbody tr th {\n",
       "        vertical-align: top;\n",
       "    }\n",
       "\n",
       "    .dataframe thead th {\n",
       "        text-align: right;\n",
       "    }\n",
       "</style>\n",
       "<table border=\"1\" class=\"dataframe\">\n",
       "  <thead>\n",
       "    <tr style=\"text-align: right;\">\n",
       "      <th></th>\n",
       "      <th>501</th>\n",
       "      <th>502</th>\n",
       "      <th>503</th>\n",
       "      <th>504</th>\n",
       "      <th>505</th>\n",
       "      <th>506</th>\n",
       "      <th>507</th>\n",
       "      <th>508</th>\n",
       "      <th>509</th>\n",
       "      <th>510</th>\n",
       "      <th>...</th>\n",
       "      <th>1213</th>\n",
       "      <th>1214</th>\n",
       "      <th>1215</th>\n",
       "      <th>1216</th>\n",
       "      <th>1217</th>\n",
       "      <th>1218</th>\n",
       "      <th>1219</th>\n",
       "      <th>1220</th>\n",
       "      <th>1221</th>\n",
       "      <th>2630</th>\n",
       "    </tr>\n",
       "  </thead>\n",
       "  <tbody>\n",
       "    <tr>\n",
       "      <th>count</th>\n",
       "      <td>424.0</td>\n",
       "      <td>424.0</td>\n",
       "      <td>424.0</td>\n",
       "      <td>424.000000</td>\n",
       "      <td>424.000000</td>\n",
       "      <td>424.000000</td>\n",
       "      <td>424.0</td>\n",
       "      <td>424.000000</td>\n",
       "      <td>424.0</td>\n",
       "      <td>424.0</td>\n",
       "      <td>...</td>\n",
       "      <td>424.000000</td>\n",
       "      <td>424.000000</td>\n",
       "      <td>424.000000</td>\n",
       "      <td>424.000000</td>\n",
       "      <td>424.000000</td>\n",
       "      <td>424.000000</td>\n",
       "      <td>424.000000</td>\n",
       "      <td>424.000000</td>\n",
       "      <td>424.000000</td>\n",
       "      <td>424.000000</td>\n",
       "    </tr>\n",
       "    <tr>\n",
       "      <th>mean</th>\n",
       "      <td>0.0</td>\n",
       "      <td>0.0</td>\n",
       "      <td>0.0</td>\n",
       "      <td>0.448113</td>\n",
       "      <td>0.054245</td>\n",
       "      <td>0.018868</td>\n",
       "      <td>0.0</td>\n",
       "      <td>0.106132</td>\n",
       "      <td>0.0</td>\n",
       "      <td>0.0</td>\n",
       "      <td>...</td>\n",
       "      <td>1.834906</td>\n",
       "      <td>2.207547</td>\n",
       "      <td>2.122642</td>\n",
       "      <td>3.000000</td>\n",
       "      <td>3.042453</td>\n",
       "      <td>2.441038</td>\n",
       "      <td>1.818396</td>\n",
       "      <td>2.233491</td>\n",
       "      <td>1.811321</td>\n",
       "      <td>23.900943</td>\n",
       "    </tr>\n",
       "    <tr>\n",
       "      <th>std</th>\n",
       "      <td>0.0</td>\n",
       "      <td>0.0</td>\n",
       "      <td>0.0</td>\n",
       "      <td>3.707656</td>\n",
       "      <td>0.513994</td>\n",
       "      <td>0.388514</td>\n",
       "      <td>0.0</td>\n",
       "      <td>1.342367</td>\n",
       "      <td>0.0</td>\n",
       "      <td>0.0</td>\n",
       "      <td>...</td>\n",
       "      <td>2.528534</td>\n",
       "      <td>2.846646</td>\n",
       "      <td>3.608377</td>\n",
       "      <td>5.313349</td>\n",
       "      <td>7.396126</td>\n",
       "      <td>3.372299</td>\n",
       "      <td>3.003944</td>\n",
       "      <td>3.528300</td>\n",
       "      <td>2.989701</td>\n",
       "      <td>53.929861</td>\n",
       "    </tr>\n",
       "    <tr>\n",
       "      <th>min</th>\n",
       "      <td>0.0</td>\n",
       "      <td>0.0</td>\n",
       "      <td>0.0</td>\n",
       "      <td>0.000000</td>\n",
       "      <td>0.000000</td>\n",
       "      <td>0.000000</td>\n",
       "      <td>0.0</td>\n",
       "      <td>0.000000</td>\n",
       "      <td>0.0</td>\n",
       "      <td>0.0</td>\n",
       "      <td>...</td>\n",
       "      <td>0.000000</td>\n",
       "      <td>0.000000</td>\n",
       "      <td>0.000000</td>\n",
       "      <td>0.000000</td>\n",
       "      <td>0.000000</td>\n",
       "      <td>0.000000</td>\n",
       "      <td>0.000000</td>\n",
       "      <td>0.000000</td>\n",
       "      <td>0.000000</td>\n",
       "      <td>0.000000</td>\n",
       "    </tr>\n",
       "    <tr>\n",
       "      <th>25%</th>\n",
       "      <td>0.0</td>\n",
       "      <td>0.0</td>\n",
       "      <td>0.0</td>\n",
       "      <td>0.000000</td>\n",
       "      <td>0.000000</td>\n",
       "      <td>0.000000</td>\n",
       "      <td>0.0</td>\n",
       "      <td>0.000000</td>\n",
       "      <td>0.0</td>\n",
       "      <td>0.0</td>\n",
       "      <td>...</td>\n",
       "      <td>0.000000</td>\n",
       "      <td>0.000000</td>\n",
       "      <td>0.000000</td>\n",
       "      <td>0.000000</td>\n",
       "      <td>0.000000</td>\n",
       "      <td>0.000000</td>\n",
       "      <td>0.000000</td>\n",
       "      <td>0.000000</td>\n",
       "      <td>0.000000</td>\n",
       "      <td>0.000000</td>\n",
       "    </tr>\n",
       "    <tr>\n",
       "      <th>50%</th>\n",
       "      <td>0.0</td>\n",
       "      <td>0.0</td>\n",
       "      <td>0.0</td>\n",
       "      <td>0.000000</td>\n",
       "      <td>0.000000</td>\n",
       "      <td>0.000000</td>\n",
       "      <td>0.0</td>\n",
       "      <td>0.000000</td>\n",
       "      <td>0.0</td>\n",
       "      <td>0.0</td>\n",
       "      <td>...</td>\n",
       "      <td>0.000000</td>\n",
       "      <td>1.000000</td>\n",
       "      <td>0.000000</td>\n",
       "      <td>1.000000</td>\n",
       "      <td>0.000000</td>\n",
       "      <td>1.000000</td>\n",
       "      <td>0.000000</td>\n",
       "      <td>1.000000</td>\n",
       "      <td>0.000000</td>\n",
       "      <td>0.000000</td>\n",
       "    </tr>\n",
       "    <tr>\n",
       "      <th>75%</th>\n",
       "      <td>0.0</td>\n",
       "      <td>0.0</td>\n",
       "      <td>0.0</td>\n",
       "      <td>0.000000</td>\n",
       "      <td>0.000000</td>\n",
       "      <td>0.000000</td>\n",
       "      <td>0.0</td>\n",
       "      <td>0.000000</td>\n",
       "      <td>0.0</td>\n",
       "      <td>0.0</td>\n",
       "      <td>...</td>\n",
       "      <td>3.000000</td>\n",
       "      <td>4.000000</td>\n",
       "      <td>3.000000</td>\n",
       "      <td>4.000000</td>\n",
       "      <td>3.000000</td>\n",
       "      <td>4.000000</td>\n",
       "      <td>3.000000</td>\n",
       "      <td>3.000000</td>\n",
       "      <td>3.000000</td>\n",
       "      <td>18.250000</td>\n",
       "    </tr>\n",
       "    <tr>\n",
       "      <th>max</th>\n",
       "      <td>0.0</td>\n",
       "      <td>0.0</td>\n",
       "      <td>0.0</td>\n",
       "      <td>49.000000</td>\n",
       "      <td>8.000000</td>\n",
       "      <td>8.000000</td>\n",
       "      <td>0.0</td>\n",
       "      <td>25.000000</td>\n",
       "      <td>0.0</td>\n",
       "      <td>0.0</td>\n",
       "      <td>...</td>\n",
       "      <td>14.000000</td>\n",
       "      <td>16.000000</td>\n",
       "      <td>22.000000</td>\n",
       "      <td>36.000000</td>\n",
       "      <td>51.000000</td>\n",
       "      <td>18.000000</td>\n",
       "      <td>15.000000</td>\n",
       "      <td>22.000000</td>\n",
       "      <td>17.000000</td>\n",
       "      <td>392.000000</td>\n",
       "    </tr>\n",
       "  </tbody>\n",
       "</table>\n",
       "<p>8 rows × 92 columns</p>\n",
       "</div>"
      ],
      "text/plain": [
       "         501    502    503         504         505         506    507  \\\n",
       "count  424.0  424.0  424.0  424.000000  424.000000  424.000000  424.0   \n",
       "mean     0.0    0.0    0.0    0.448113    0.054245    0.018868    0.0   \n",
       "std      0.0    0.0    0.0    3.707656    0.513994    0.388514    0.0   \n",
       "min      0.0    0.0    0.0    0.000000    0.000000    0.000000    0.0   \n",
       "25%      0.0    0.0    0.0    0.000000    0.000000    0.000000    0.0   \n",
       "50%      0.0    0.0    0.0    0.000000    0.000000    0.000000    0.0   \n",
       "75%      0.0    0.0    0.0    0.000000    0.000000    0.000000    0.0   \n",
       "max      0.0    0.0    0.0   49.000000    8.000000    8.000000    0.0   \n",
       "\n",
       "              508    509    510  ...        1213        1214        1215  \\\n",
       "count  424.000000  424.0  424.0  ...  424.000000  424.000000  424.000000   \n",
       "mean     0.106132    0.0    0.0  ...    1.834906    2.207547    2.122642   \n",
       "std      1.342367    0.0    0.0  ...    2.528534    2.846646    3.608377   \n",
       "min      0.000000    0.0    0.0  ...    0.000000    0.000000    0.000000   \n",
       "25%      0.000000    0.0    0.0  ...    0.000000    0.000000    0.000000   \n",
       "50%      0.000000    0.0    0.0  ...    0.000000    1.000000    0.000000   \n",
       "75%      0.000000    0.0    0.0  ...    3.000000    4.000000    3.000000   \n",
       "max     25.000000    0.0    0.0  ...   14.000000   16.000000   22.000000   \n",
       "\n",
       "             1216        1217        1218        1219        1220        1221  \\\n",
       "count  424.000000  424.000000  424.000000  424.000000  424.000000  424.000000   \n",
       "mean     3.000000    3.042453    2.441038    1.818396    2.233491    1.811321   \n",
       "std      5.313349    7.396126    3.372299    3.003944    3.528300    2.989701   \n",
       "min      0.000000    0.000000    0.000000    0.000000    0.000000    0.000000   \n",
       "25%      0.000000    0.000000    0.000000    0.000000    0.000000    0.000000   \n",
       "50%      1.000000    0.000000    1.000000    0.000000    1.000000    0.000000   \n",
       "75%      4.000000    3.000000    4.000000    3.000000    3.000000    3.000000   \n",
       "max     36.000000   51.000000   18.000000   15.000000   22.000000   17.000000   \n",
       "\n",
       "             2630  \n",
       "count  424.000000  \n",
       "mean    23.900943  \n",
       "std     53.929861  \n",
       "min      0.000000  \n",
       "25%      0.000000  \n",
       "50%      0.000000  \n",
       "75%     18.250000  \n",
       "max    392.000000  \n",
       "\n",
       "[8 rows x 92 columns]"
      ]
     },
     "execution_count": 3,
     "metadata": {},
     "output_type": "execute_result"
    }
   ],
   "source": [
    "#Load the contact matrix\n",
    "contact_cofactors_resids = pd.read_csv('/martini/rubiz/Github/PsbS_Binding_Site/4_pairs/analysis/chain_c/contact_matrix_cofactors_resids_5000ns.csv', index_col=0)\n",
    "#Print the stadistics of the contact matrix\n",
    "contact_cofactors_resids.describe()"
   ]
  },
  {
   "cell_type": "markdown",
   "metadata": {},
   "source": [
    "# 🔵 Save bfactors in PDB"
   ]
  },
  {
   "cell_type": "code",
   "execution_count": null,
   "metadata": {},
   "outputs": [],
   "source": [
    "#Read all the contact matrices\n",
    "contact_chain4_protein = pd.read_csv('/martini/rubiz/Github/PsbS_Binding_Site/4_pairs/analysis/csv_files/contact_matrix_protein_5000ns.csv', index_col=0)\n",
    "contact_chain4_cofactors = pd.read_csv('/martini/rubiz/Github/PsbS_Binding_Site/4_pairs/analysis/chain_4/contact_matrix_cofactors_5000ns.csv', index_col=0)\n",
    "contact_chain4_cofactors_resids = pd.read_csv('/martini/rubiz/Github/PsbS_Binding_Site/4_pairs/analysis/chain_4/contact_matrix_cofactors_resids_5000ns.csv', index_col=0)\n",
    "#Read all the contact matrices\n",
    "contact_chains_protein = pd.read_csv('/martini/rubiz/Github/PsbS_Binding_Site/4_pairs/analysis/chain_s/contact_matrix_protein_5000ns.csv', index_col=0)\n",
    "contact_chains_cofactors = pd.read_csv('/martini/rubiz/Github/PsbS_Binding_Site/4_pairs/analysis/chain_s/contact_matrix_cofactors_5000ns.csv', index_col=0)\n",
    "contact_chains_cofactors_resids = pd.read_csv('/martini/rubiz/Github/PsbS_Binding_Site/4_pairs/analysis/chain_s/contact_matrix_cofactors_resids_5000ns.csv', index_col=0)\n",
    "#Read all the contact matrices\n",
    "contact_chainr_protein = pd.read_csv('/martini/rubiz/Github/PsbS_Binding_Site/4_pairs/analysis/chain_r/contact_matrix_protein_5000ns.csv', index_col=0)\n",
    "contact_chainr_cofactors = pd.read_csv('/martini/rubiz/Github/PsbS_Binding_Site/4_pairs/analysis/chain_r/contact_matrix_cofactors_5000ns.csv', index_col=0)\n",
    "contact_chainr_cofactors_resids = pd.read_csv('/martini/rubiz/Github/PsbS_Binding_Site/4_pairs/analysis/chain_r/contact_matrix_cofactors_resids_5000ns.csv', index_col=0)\n",
    "contact_chainc_protein = pd.read_csv('/martini/rubiz/Github/PsbS_Binding_Site/4_pairs/analysis/chain_c/contact_matrix_protein_5000ns.csv', index_col=0)\n",
    "contact_chainc_cofactors = pd.read_csv('/martini/rubiz/Github/PsbS_Binding_Site/4_pairs/analysis/chain_c/contact_matrix_cofactors_5000ns.csv', index_col=0)\n",
    "contact_chainc_cofactors_resids = pd.read_csv('/martini/rubiz/Github/PsbS_Binding_Site/4_pairs/analysis/chain_c/contact_matrix_cofactors_resids_5000ns.csv', index_col=0)\n",
    "\n"
   ]
  },
  {
   "cell_type": "code",
   "execution_count": null,
   "metadata": {},
   "outputs": [],
   "source": [
    "resids_psbs = contact_chain4_protein.index.values\n",
    "\n",
    "#Chain 4\n",
    "contact_chain4_psbs = contact_chain4_protein.sum(axis=1).values #Sum the rows, to get PsbS contacts\n",
    "contact_chain4 = contact_chain4_protein.sum(axis=0).values #Sum the columns, to chain contacts\n",
    "resids_chain4 = contact_chain4_protein.columns.values\n",
    "contact_chain4_cofactors_psbs = contact_chain4_cofactors_resids.sum(axis=1).values #Sum the rows, to get PsbS contacts\n",
    "resids_chain4_cofactors = contact_chain4_cofactors_resids.columns.values\n",
    "contact_chain4_cofactors = contact_chain4_cofactors_resids.sum(axis=0).values #Sum the columns, to chain contacts\n",
    "\n",
    "#Chain S\n",
    "contact_chains_psbs = contact_chains_protein.sum(axis=1).values #Sum the rows, to get PsbS contacts\n",
    "contact_chains = contact_chains_protein.sum(axis=0).values #Sum the columns, to chain contacts\n",
    "resids_chains = contact_chains_protein.columns.values\n",
    "contact_chains_cofactors_psbs = contact_chains_cofactors_resids.sum(axis=1).values #Sum the rows, to get PsbS contacts\n",
    "resids_chains_cofactors = contact_chains_cofactors_resids.columns.values\n",
    "contact_chains_cofactors = contact_chains_cofactors_resids.sum(axis=0).values #Sum the columns, to chain contacts\n",
    "#Chain R\n",
    "contact_chainr_psbs = contact_chainr_protein.sum(axis=1).values #Sum the rows, to get PsbS contacts\n",
    "contact_chainr = contact_chainr_protein.sum(axis=0).values #Sum the columns, to chain contacts\n",
    "resids_chainr = contact_chainr_protein.columns.values\n",
    "contact_chainr_cofactors_psbs = contact_chainr_cofactors_resids.sum(axis=1).values #Sum the rows, to get PsbS contacts\n",
    "resids_chainr_cofactors = contact_chainr_cofactors_resids.columns.values\n",
    "contact_chainr_cofactors = contact_chainr_cofactors_resids.sum(axis=0).values #Sum the columns, to chain contacts\n",
    "#Chain C\n",
    "contact_chainc_psbs = contact_chainc_protein.sum(axis=1).values #Sum the rows, to get PsbS contacts\n",
    "contact_chainc = contact_chainc_protein.sum(axis=0).values #Sum the columns, to chain contacts\n",
    "resids_chainc = contact_chainc_protein.columns.values\n",
    "contact_chainc_cofactors_psbs = contact_chainc_cofactors_resids.sum(axis=1).values #Sum the rows, to get PsbS contacts\n",
    "resids_chainc_cofactors = contact_chainc_cofactors_resids.columns.values\n",
    "contact_chainc_cofactors = contact_chainc_cofactors_resids.sum(axis=0).values #Sum the columns, to chain contacts\n"
   ]
  },
  {
   "cell_type": "code",
   "execution_count": null,
   "metadata": {},
   "outputs": [
    {
     "name": "stdout",
     "output_type": "stream",
     "text": [
      "Max value of contact_chains:  5800.0\n",
      "Universe saved to /martini/rubiz/interaction_partner_paper/4_pairs/analysis/chain_s/contacts_2000ns.pdb\n",
      "B-factors assigned and saved for chain s in /martini/rubiz/interaction_partner_paper/4_pairs/analysis/chain_s/contacts_2000ns.pdb\n"
     ]
    }
   ],
   "source": [
    "#Reference files\n",
    "ref_gro = \"/martini/rubiz/Github/PsbS_Binding_Site/3_reference_proteins/5XNL.pdb\"\n",
    "#chains = ['4', 's', 'r', 'c']  # List of chains to process\n",
    "chains = ['s']\n",
    "# Save the AA chains with B-factors\n",
    "u_chain = mda.Universe(ref_gro)\n",
    "for chain in chains:\n",
    "    #Saving info in CHAIN 4, S, R, C\n",
    "\n",
    "    # Select the universe for the specific chain\n",
    "    #sel1 = u_chain.select_atoms(f'chainID {chain}')\n",
    "    sel1 = u_chain.select_atoms(f'chainID {chain}')\n",
    "\n",
    "    #Call variable with the contact matrix for the cofactors\n",
    "    var_bfactors_chain = f\"contact_chain{chain}\"\n",
    "    var_resids_chain = f\"resids_chain{chain}\"\n",
    "    var_bfactors_chain_cofactors = f\"contact_chain{chain}_cofactors\"\n",
    "    var_resids_chain_cofactors = f\"contact_chain{chain}_cofactors_resids\"\n",
    "\n",
    "    bfactors_chain = globals()[var_bfactors_chain]\n",
    "    print(f\"Max value of contact_chain{chain}: \", bfactors_chain.max())\n",
    "    resids_chain = globals()[var_resids_chain]\n",
    "    bfactors_chain_cofactors = globals()[var_bfactors_chain_cofactors]\n",
    "    #print(bfactors_chain_cofactors)\n",
    "    resids_chain_cofactors = globals()[var_resids_chain_cofactors]\n",
    "\n",
    "    # Assign B-factors to the universe for the specific chain\n",
    "    u_chain = assign_bfactor_to_universe(u_chain, resids_chain, bfactors_chain)\n",
    "    u_chain = assign_bfactor_to_universe(u_chain, resids_chain_cofactors, bfactors_chain_cofactors)\n",
    "\n",
    "    # Save the universe to a PDB file\n",
    "    output_filename = f'/martini/rubiz/Github/PsbS_Binding_Site/4_pairs/analysis/chain_{chain}/contacts_5000ns.pdb'\n",
    "    sel = u_chain.select_atoms(f'chainID {chain}')\n",
    "    save_universe_to_pdb(sel, output_filename)\n",
    "    print(f\"B-factors assigned and saved for chain {chain} in {output_filename}\")\n",
    "\n"
   ]
  },
  {
   "cell_type": "code",
   "execution_count": null,
   "metadata": {},
   "outputs": [
    {
     "name": "stdout",
     "output_type": "stream",
     "text": [
      "Max value of contact_chain4_psbs:  2739.0\n",
      "Universe saved to /martini/rubiz/interaction_partner_paper/4_pairs/analysis/chain_4/psbs_chain4_contacts_2000ns.pdb\n",
      "B-factors assigned and saved for PsbS chain 4 in /martini/rubiz/interaction_partner_paper/4_pairs/analysis/chain_4/psbs_chain4_contacts_2000ns.pdb\n",
      "Max value of contact_chains_psbs:  8962.0\n",
      "Universe saved to /martini/rubiz/interaction_partner_paper/4_pairs/analysis/chain_s/psbs_chains_contacts_2000ns.pdb\n",
      "B-factors assigned and saved for PsbS chain s in /martini/rubiz/interaction_partner_paper/4_pairs/analysis/chain_s/psbs_chains_contacts_2000ns.pdb\n",
      "Max value of contact_chainr_psbs:  6642.0\n",
      "Universe saved to /martini/rubiz/interaction_partner_paper/4_pairs/analysis/chain_r/psbs_chainr_contacts_2000ns.pdb\n",
      "B-factors assigned and saved for PsbS chain r in /martini/rubiz/interaction_partner_paper/4_pairs/analysis/chain_r/psbs_chainr_contacts_2000ns.pdb\n",
      "Max value of contact_chainc_psbs:  5620.0\n",
      "Universe saved to /martini/rubiz/interaction_partner_paper/4_pairs/analysis/chain_c/psbs_chainc_contacts_2000ns.pdb\n",
      "B-factors assigned and saved for PsbS chain c in /martini/rubiz/interaction_partner_paper/4_pairs/analysis/chain_c/psbs_chainc_contacts_2000ns.pdb\n"
     ]
    }
   ],
   "source": [
    "psbs_gro = \"/martini/rubiz/Github/PsbS_Binding_Site/3_reference_proteins/psbs/psbs_7_5_dimer.pdb\"\n",
    "u_psbs = mda.Universe(psbs_gro)\n",
    "\n",
    "chains = ['4', 's', 'r', 'c']\n",
    "#Now for PsbS\n",
    "for chain in chains:\n",
    "    #Call variable with the contact matrix for the cofactors\n",
    "    var_bfactors_chain = f\"contact_chain{chain}_psbs\"\n",
    "    var_bfactors_chain_cofactors = f\"contact_chain{chain}_cofactors_psbs\"\n",
    "    var_resids_chain = f\"resids_psbs\"\n",
    "\n",
    "    #Sum bfactors chain and cofactors\n",
    "    bfactors_chain_psbs = globals()[var_bfactors_chain]\n",
    "    bfactors_chain_cofactors_psbs = globals()[var_bfactors_chain_cofactors]\n",
    "    resids_chain = globals()[var_resids_chain]\n",
    "    #print(bfactors_chain_cofactors_psbs)\n",
    "    #Sum the two arrays\n",
    "    bfactors_chain = bfactors_chain_psbs + bfactors_chain_cofactors_psbs\n",
    "    #bfactors_chain = bfactors_chain_psbs \n",
    "\n",
    "    print(f\"Max value of contact_chain{chain}_psbs: \", bfactors_chain.max())\n",
    "\n",
    "    # Assign B-factors to the universe for the specific chain\n",
    "    u_psbs = assign_bfactor_to_universe(u_psbs, resids_chain, bfactors_chain)\n",
    "\n",
    "    # Save the universe to a PDB file\n",
    "    output_filename = f'/martini/rubiz/Github/PsbS_Binding_Site/4_pairs/analysis/chain_{chain}/psbs_chain{chain}_contacts_5000ns.pdb'\n",
    "\n",
    "    save_universe_to_pdb(u_psbs, output_filename)\n",
    "    print(f\"B-factors assigned and saved for PsbS chain {chain} in {output_filename}\")\n",
    "\n"
   ]
  },
  {
   "cell_type": "markdown",
   "metadata": {},
   "source": [
    "# 🔵 Particle distribution over time"
   ]
  },
  {
   "cell_type": "code",
   "execution_count": null,
   "metadata": {},
   "outputs": [],
   "source": []
  },
  {
   "cell_type": "markdown",
   "metadata": {},
   "source": [
    "# 🔵 Lifetime analysis"
   ]
  },
  {
   "cell_type": "code",
   "execution_count": null,
   "metadata": {},
   "outputs": [
    {
     "ename": "NameError",
     "evalue": "name 'mda' is not defined",
     "output_type": "error",
     "traceback": [
      "\u001b[0;31m---------------------------------------------------------------------------\u001b[0m",
      "\u001b[0;31mNameError\u001b[0m                                 Traceback (most recent call last)",
      "Cell \u001b[0;32mIn[3], line 4\u001b[0m\n\u001b[1;32m      2\u001b[0m gro \u001b[38;5;241m=\u001b[39m \u001b[38;5;124m\"\u001b[39m\u001b[38;5;124m/martini/rubiz/Github/PsbS_Binding_Site/4_pairs/analysis/chain_c/initial_fit.pdb\u001b[39m\u001b[38;5;124m\"\u001b[39m\n\u001b[1;32m      3\u001b[0m xtc \u001b[38;5;241m=\u001b[39m \u001b[38;5;124m\"\u001b[39m\u001b[38;5;124m/martini/rubiz/Github/PsbS_Binding_Site/4_pairs/analysis/chain_c/aligned.xtc\u001b[39m\u001b[38;5;124m\"\u001b[39m\n\u001b[0;32m----> 4\u001b[0m u \u001b[38;5;241m=\u001b[39m \u001b[43mmda\u001b[49m\u001b[38;5;241m.\u001b[39mUniverse(gro, xtc)\n\u001b[1;32m      5\u001b[0m sel1 \u001b[38;5;241m=\u001b[39m u\u001b[38;5;241m.\u001b[39mselect_atoms(\u001b[38;5;124m'\u001b[39m\u001b[38;5;124mchainID A B\u001b[39m\u001b[38;5;124m'\u001b[39m)\n\u001b[1;32m      6\u001b[0m sel2 \u001b[38;5;241m=\u001b[39m u\u001b[38;5;241m.\u001b[39mselect_atoms(\u001b[38;5;124m'\u001b[39m\u001b[38;5;124mresname CLA CLB CHL PLQ PL9 LUT VIO XAT NEO NEX BCR\u001b[39m\u001b[38;5;124m'\u001b[39m)\n",
      "\u001b[0;31mNameError\u001b[0m: name 'mda' is not defined"
     ]
    }
   ],
   "source": [
    "# Chain c cofactors\n",
    "gro = \"/martini/rubiz/Github/PsbS_Binding_Site/4_pairs/analysis/chain_c/initial_fit.pdb\"\n",
    "xtc = \"/martini/rubiz/Github/PsbS_Binding_Site/4_pairs/analysis/chain_c/aligned.xtc\"\n",
    "u = mda.Universe(gro, xtc)\n",
    "sel1 = u.select_atoms('chainID A B')\n",
    "sel2 = u.select_atoms('resname CLA CLB CHL PLQ PL9 LUT VIO XAT NEO NEX BCR')\n",
    "n_frames = len(u.trajectory)\n",
    "print(\"Number of frames: \", n_frames)\n",
    "print(sel1.n_residues)\n",
    "print(sel2.n_residues)\n",
    "contact_matrix_obj = ContactMatrix(u, sel1, sel2, 8, group_by1=\"resids\", group_by2=\"resnames\")\n",
    "contact_matrix_list = contact_matrix_obj.calculate_contact_pairs_matrix_per_observation(n_frames=n_frames-1)\n",
    "time_matrix_list = contact_matrix_obj.time_matrix_list(contact_matrix_list,u)\n",
    "avg_matrix, std_matrix = contact_matrix_obj.avg_std_matrix_list(contact_matrix_list)\n",
    "contact_matrix_obj.print_contact_matrix_list(contact_matrix_list)\n",
    "#Save avg_matrix and std_matrix to csv\n",
    "avg_matrix.to_csv('/martini/rubiz/Github/PsbS_Binding_Site/4_pairs/analysis/chain_c/contact_boolean_cofactors_5000ns.csv')"
   ]
  },
  {
   "cell_type": "code",
   "execution_count": null,
   "metadata": {},
   "outputs": [],
   "source": []
  }
 ],
 "metadata": {
  "kernelspec": {
   "display_name": "nglview",
   "language": "python",
   "name": "nglview"
  },
  "language_info": {
   "codemirror_mode": {
    "name": "ipython",
    "version": 3
   },
   "file_extension": ".py",
   "mimetype": "text/x-python",
   "name": "python",
   "nbconvert_exporter": "python",
   "pygments_lexer": "ipython3",
   "version": "3.9.17"
  }
 },
 "nbformat": 4,
 "nbformat_minor": 4
}
